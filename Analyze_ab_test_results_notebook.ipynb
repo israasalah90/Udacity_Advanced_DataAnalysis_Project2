{
 "cells": [
  {
   "cell_type": "markdown",
   "metadata": {},
   "source": [
    "## Analyze A/B Test Results\n",
    "\n",
    "This project will assure you have mastered the subjects covered in the statistics lessons.  The hope is to have this project be as comprehensive of these topics as possible.  Good luck!\n",
    "\n",
    "## Table of Contents\n",
    "- [Introduction](#intro)\n",
    "- [Part I - Probability](#probability)\n",
    "- [Part II - A/B Test](#ab_test)\n",
    "- [Part III - Regression](#regression)\n",
    "- [Conclusion](#conclusions)\n",
    "- [Resources](#resources) \n",
    "\n",
    "\n",
    "\n",
    "<a id='intro'></a>\n",
    "### Introduction\n",
    "\n",
    "A/B tests are very commonly performed by data analysts and data scientists.  It is important that you get some practice working with the difficulties of these \n",
    "\n",
    "For this project, you will be working to understand the results of an A/B test run by an e-commerce website.  Your goal is to work through this notebook to help the company understand if they should implement the new page, keep the old page, or perhaps run the experiment longer to make their decision.\n",
    "\n",
    "**As you work through this notebook, follow along in the classroom and answer the corresponding quiz questions associated with each question.** The labels for each classroom concept are provided for each question.  This will assure you are on the right track as you work through the project, and you can feel more confident in your final submission meeting the criteria.  As a final check, assure you meet all the criteria on the [RUBRIC](https://review.udacity.com/#!/projects/37e27304-ad47-4eb0-a1ab-8c12f60e43d0/rubric).\n",
    "\n",
    "<a id='probability'></a>\n",
    "#### Part I - Probability\n",
    "\n",
    "To get started, let's import our libraries."
   ]
  },
  {
   "cell_type": "code",
   "execution_count": 2,
   "metadata": {},
   "outputs": [],
   "source": [
    "import pandas as pd\n",
    "import numpy as np\n",
    "import random\n",
    "import matplotlib.pyplot as plt\n",
    "%matplotlib inline\n",
    "#We are setting the seed to assure you get the same answers on quizzes as we set up\n",
    "random.seed(42)"
   ]
  },
  {
   "cell_type": "markdown",
   "metadata": {},
   "source": [
    "`1.` Now, read in the `ab_data.csv` data. Store it in `df`.  **Use your dataframe to answer the questions in Quiz 1 of the classroom.**\n",
    "\n",
    "a. Read in the dataset and take a look at the top few rows here:"
   ]
  },
  {
   "cell_type": "code",
   "execution_count": 5,
   "metadata": {},
   "outputs": [],
   "source": [
    "file_path='C:/Users/israa_salah/Desktop/isalah/DataAnalysisCourse/Projects/Project2/AnalyzeABTestResults 2/'\n",
    "#df_countries=pd.read_csv(file_path+'countries.csv')\n",
    "df=pd.read_csv(file_path+'ab_data.csv')"
   ]
  },
  {
   "cell_type": "markdown",
   "metadata": {},
   "source": [
    "b. Use the below cell to find the number of rows in the dataset."
   ]
  },
  {
   "cell_type": "code",
   "execution_count": 6,
   "metadata": {},
   "outputs": [
    {
     "data": {
      "text/plain": [
       "294478"
      ]
     },
     "execution_count": 6,
     "metadata": {},
     "output_type": "execute_result"
    }
   ],
   "source": [
    "df.shape[0]"
   ]
  },
  {
   "cell_type": "markdown",
   "metadata": {},
   "source": [
    "There are 294478 rows"
   ]
  },
  {
   "cell_type": "markdown",
   "metadata": {},
   "source": [
    "c. The number of unique users in the dataset."
   ]
  },
  {
   "cell_type": "code",
   "execution_count": 7,
   "metadata": {},
   "outputs": [
    {
     "data": {
      "text/plain": [
       "290584"
      ]
     },
     "execution_count": 7,
     "metadata": {},
     "output_type": "execute_result"
    }
   ],
   "source": [
    "(df['user_id'].nunique())"
   ]
  },
  {
   "cell_type": "markdown",
   "metadata": {},
   "source": [
    "There is 290584 users"
   ]
  },
  {
   "cell_type": "markdown",
   "metadata": {
    "collapsed": true
   },
   "source": [
    "d. The proportion of users converted."
   ]
  },
  {
   "cell_type": "code",
   "execution_count": 8,
   "metadata": {},
   "outputs": [
    {
     "data": {
      "text/plain": [
       "0.12104245244060237"
      ]
     },
     "execution_count": 8,
     "metadata": {},
     "output_type": "execute_result"
    }
   ],
   "source": [
    "((df['user_id'][df['converted']==1]).nunique())/(df['user_id'].nunique())"
   ]
  },
  {
   "cell_type": "markdown",
   "metadata": {},
   "source": [
    "Portion of converted users: 0.12104245244060237 / 12.104%"
   ]
  },
  {
   "cell_type": "markdown",
   "metadata": {
    "collapsed": true
   },
   "source": [
    "e. The number of times the `new_page` and `treatment` don't line up."
   ]
  },
  {
   "cell_type": "code",
   "execution_count": 9,
   "metadata": {},
   "outputs": [],
   "source": [
    "df_A_not_B=df[(df['landing_page']!='new_page')&(df['group']=='treatment')]\n",
    "df_B_not_A=df[(df['landing_page']=='new_page')&(df['group']!='treatment')]\n"
   ]
  },
  {
   "cell_type": "code",
   "execution_count": 10,
   "metadata": {},
   "outputs": [
    {
     "data": {
      "text/plain": [
       "1965"
      ]
     },
     "execution_count": 10,
     "metadata": {},
     "output_type": "execute_result"
    }
   ],
   "source": [
    "len(df_A_not_B)"
   ]
  },
  {
   "cell_type": "code",
   "execution_count": 11,
   "metadata": {},
   "outputs": [
    {
     "data": {
      "text/plain": [
       "1928"
      ]
     },
     "execution_count": 11,
     "metadata": {},
     "output_type": "execute_result"
    }
   ],
   "source": [
    "len(df_B_not_A)"
   ]
  },
  {
   "cell_type": "code",
   "execution_count": 12,
   "metadata": {},
   "outputs": [
    {
     "data": {
      "text/plain": [
       "3893"
      ]
     },
     "execution_count": 12,
     "metadata": {},
     "output_type": "execute_result"
    }
   ],
   "source": [
    "len(df_A_not_B) + len(df_B_not_A)"
   ]
  },
  {
   "cell_type": "markdown",
   "metadata": {},
   "source": [
    "There is 3893 times new_page & treatment don't lineup. My assumption is based on the two cases of the mismatch. "
   ]
  },
  {
   "cell_type": "markdown",
   "metadata": {},
   "source": [
    "f. Do any of the rows have missing values?"
   ]
  },
  {
   "cell_type": "code",
   "execution_count": 13,
   "metadata": {},
   "outputs": [
    {
     "data": {
      "text/html": [
       "<div>\n",
       "<style scoped>\n",
       "    .dataframe tbody tr th:only-of-type {\n",
       "        vertical-align: middle;\n",
       "    }\n",
       "\n",
       "    .dataframe tbody tr th {\n",
       "        vertical-align: top;\n",
       "    }\n",
       "\n",
       "    .dataframe thead th {\n",
       "        text-align: right;\n",
       "    }\n",
       "</style>\n",
       "<table border=\"1\" class=\"dataframe\">\n",
       "  <thead>\n",
       "    <tr style=\"text-align: right;\">\n",
       "      <th></th>\n",
       "      <th>user_id</th>\n",
       "      <th>timestamp</th>\n",
       "      <th>group</th>\n",
       "      <th>landing_page</th>\n",
       "      <th>converted</th>\n",
       "    </tr>\n",
       "  </thead>\n",
       "  <tbody>\n",
       "  </tbody>\n",
       "</table>\n",
       "</div>"
      ],
      "text/plain": [
       "Empty DataFrame\n",
       "Columns: [user_id, timestamp, group, landing_page, converted]\n",
       "Index: []"
      ]
     },
     "execution_count": 13,
     "metadata": {},
     "output_type": "execute_result"
    }
   ],
   "source": [
    "df[df.isnull().any(axis=1)]\n"
   ]
  },
  {
   "cell_type": "markdown",
   "metadata": {},
   "source": [
    "No rows has null/missing values"
   ]
  },
  {
   "cell_type": "markdown",
   "metadata": {},
   "source": [
    "`2.` For the rows where **treatment** is not aligned with **new_page** or **control** is not aligned with **old_page**, we cannot be sure if this row truly received the new or old page.  Use **Quiz 2** in the classroom to provide how we should handle these rows.  \n",
    "\n",
    "a. Now use the answer to the quiz to create a new dataset that meets the specifications from the quiz.  Store your new dataframe in **df2**."
   ]
  },
  {
   "cell_type": "code",
   "execution_count": 188,
   "metadata": {},
   "outputs": [],
   "source": [
    "df1 = df.drop(df[(df['group'] == 'treatment') & (df['landing_page'] != 'new_page')].index)\n",
    "df2=  df1.drop(df[(df['group'] == 'control') & (df['landing_page'] != 'old_page')].index)"
   ]
  },
  {
   "cell_type": "code",
   "execution_count": 189,
   "metadata": {},
   "outputs": [
    {
     "data": {
      "text/html": [
       "<div>\n",
       "<style scoped>\n",
       "    .dataframe tbody tr th:only-of-type {\n",
       "        vertical-align: middle;\n",
       "    }\n",
       "\n",
       "    .dataframe tbody tr th {\n",
       "        vertical-align: top;\n",
       "    }\n",
       "\n",
       "    .dataframe thead th {\n",
       "        text-align: right;\n",
       "    }\n",
       "</style>\n",
       "<table border=\"1\" class=\"dataframe\">\n",
       "  <thead>\n",
       "    <tr style=\"text-align: right;\">\n",
       "      <th></th>\n",
       "      <th>user_id</th>\n",
       "      <th>timestamp</th>\n",
       "      <th>group</th>\n",
       "      <th>landing_page</th>\n",
       "      <th>converted</th>\n",
       "    </tr>\n",
       "  </thead>\n",
       "  <tbody>\n",
       "    <tr>\n",
       "      <th>0</th>\n",
       "      <td>851104</td>\n",
       "      <td>2017-01-21 22:11:48.556739</td>\n",
       "      <td>control</td>\n",
       "      <td>old_page</td>\n",
       "      <td>0</td>\n",
       "    </tr>\n",
       "    <tr>\n",
       "      <th>1</th>\n",
       "      <td>804228</td>\n",
       "      <td>2017-01-12 08:01:45.159739</td>\n",
       "      <td>control</td>\n",
       "      <td>old_page</td>\n",
       "      <td>0</td>\n",
       "    </tr>\n",
       "    <tr>\n",
       "      <th>2</th>\n",
       "      <td>661590</td>\n",
       "      <td>2017-01-11 16:55:06.154213</td>\n",
       "      <td>treatment</td>\n",
       "      <td>new_page</td>\n",
       "      <td>0</td>\n",
       "    </tr>\n",
       "    <tr>\n",
       "      <th>3</th>\n",
       "      <td>853541</td>\n",
       "      <td>2017-01-08 18:28:03.143765</td>\n",
       "      <td>treatment</td>\n",
       "      <td>new_page</td>\n",
       "      <td>0</td>\n",
       "    </tr>\n",
       "    <tr>\n",
       "      <th>4</th>\n",
       "      <td>864975</td>\n",
       "      <td>2017-01-21 01:52:26.210827</td>\n",
       "      <td>control</td>\n",
       "      <td>old_page</td>\n",
       "      <td>1</td>\n",
       "    </tr>\n",
       "    <tr>\n",
       "      <th>...</th>\n",
       "      <td>...</td>\n",
       "      <td>...</td>\n",
       "      <td>...</td>\n",
       "      <td>...</td>\n",
       "      <td>...</td>\n",
       "    </tr>\n",
       "    <tr>\n",
       "      <th>294473</th>\n",
       "      <td>751197</td>\n",
       "      <td>2017-01-03 22:28:38.630509</td>\n",
       "      <td>control</td>\n",
       "      <td>old_page</td>\n",
       "      <td>0</td>\n",
       "    </tr>\n",
       "    <tr>\n",
       "      <th>294474</th>\n",
       "      <td>945152</td>\n",
       "      <td>2017-01-12 00:51:57.078372</td>\n",
       "      <td>control</td>\n",
       "      <td>old_page</td>\n",
       "      <td>0</td>\n",
       "    </tr>\n",
       "    <tr>\n",
       "      <th>294475</th>\n",
       "      <td>734608</td>\n",
       "      <td>2017-01-22 11:45:03.439544</td>\n",
       "      <td>control</td>\n",
       "      <td>old_page</td>\n",
       "      <td>0</td>\n",
       "    </tr>\n",
       "    <tr>\n",
       "      <th>294476</th>\n",
       "      <td>697314</td>\n",
       "      <td>2017-01-15 01:20:28.957438</td>\n",
       "      <td>control</td>\n",
       "      <td>old_page</td>\n",
       "      <td>0</td>\n",
       "    </tr>\n",
       "    <tr>\n",
       "      <th>294477</th>\n",
       "      <td>715931</td>\n",
       "      <td>2017-01-16 12:40:24.467417</td>\n",
       "      <td>treatment</td>\n",
       "      <td>new_page</td>\n",
       "      <td>0</td>\n",
       "    </tr>\n",
       "  </tbody>\n",
       "</table>\n",
       "<p>292513 rows × 5 columns</p>\n",
       "</div>"
      ],
      "text/plain": [
       "        user_id                   timestamp      group landing_page  converted\n",
       "0        851104  2017-01-21 22:11:48.556739    control     old_page          0\n",
       "1        804228  2017-01-12 08:01:45.159739    control     old_page          0\n",
       "2        661590  2017-01-11 16:55:06.154213  treatment     new_page          0\n",
       "3        853541  2017-01-08 18:28:03.143765  treatment     new_page          0\n",
       "4        864975  2017-01-21 01:52:26.210827    control     old_page          1\n",
       "...         ...                         ...        ...          ...        ...\n",
       "294473   751197  2017-01-03 22:28:38.630509    control     old_page          0\n",
       "294474   945152  2017-01-12 00:51:57.078372    control     old_page          0\n",
       "294475   734608  2017-01-22 11:45:03.439544    control     old_page          0\n",
       "294476   697314  2017-01-15 01:20:28.957438    control     old_page          0\n",
       "294477   715931  2017-01-16 12:40:24.467417  treatment     new_page          0\n",
       "\n",
       "[292513 rows x 5 columns]"
      ]
     },
     "execution_count": 189,
     "metadata": {},
     "output_type": "execute_result"
    }
   ],
   "source": [
    "df1"
   ]
  },
  {
   "cell_type": "code",
   "execution_count": 190,
   "metadata": {},
   "outputs": [
    {
     "data": {
      "text/html": [
       "<div>\n",
       "<style scoped>\n",
       "    .dataframe tbody tr th:only-of-type {\n",
       "        vertical-align: middle;\n",
       "    }\n",
       "\n",
       "    .dataframe tbody tr th {\n",
       "        vertical-align: top;\n",
       "    }\n",
       "\n",
       "    .dataframe thead th {\n",
       "        text-align: right;\n",
       "    }\n",
       "</style>\n",
       "<table border=\"1\" class=\"dataframe\">\n",
       "  <thead>\n",
       "    <tr style=\"text-align: right;\">\n",
       "      <th></th>\n",
       "      <th>user_id</th>\n",
       "      <th>timestamp</th>\n",
       "      <th>group</th>\n",
       "      <th>landing_page</th>\n",
       "      <th>converted</th>\n",
       "    </tr>\n",
       "  </thead>\n",
       "  <tbody>\n",
       "    <tr>\n",
       "      <th>0</th>\n",
       "      <td>851104</td>\n",
       "      <td>2017-01-21 22:11:48.556739</td>\n",
       "      <td>control</td>\n",
       "      <td>old_page</td>\n",
       "      <td>0</td>\n",
       "    </tr>\n",
       "    <tr>\n",
       "      <th>1</th>\n",
       "      <td>804228</td>\n",
       "      <td>2017-01-12 08:01:45.159739</td>\n",
       "      <td>control</td>\n",
       "      <td>old_page</td>\n",
       "      <td>0</td>\n",
       "    </tr>\n",
       "    <tr>\n",
       "      <th>2</th>\n",
       "      <td>661590</td>\n",
       "      <td>2017-01-11 16:55:06.154213</td>\n",
       "      <td>treatment</td>\n",
       "      <td>new_page</td>\n",
       "      <td>0</td>\n",
       "    </tr>\n",
       "    <tr>\n",
       "      <th>3</th>\n",
       "      <td>853541</td>\n",
       "      <td>2017-01-08 18:28:03.143765</td>\n",
       "      <td>treatment</td>\n",
       "      <td>new_page</td>\n",
       "      <td>0</td>\n",
       "    </tr>\n",
       "    <tr>\n",
       "      <th>4</th>\n",
       "      <td>864975</td>\n",
       "      <td>2017-01-21 01:52:26.210827</td>\n",
       "      <td>control</td>\n",
       "      <td>old_page</td>\n",
       "      <td>1</td>\n",
       "    </tr>\n",
       "    <tr>\n",
       "      <th>...</th>\n",
       "      <td>...</td>\n",
       "      <td>...</td>\n",
       "      <td>...</td>\n",
       "      <td>...</td>\n",
       "      <td>...</td>\n",
       "    </tr>\n",
       "    <tr>\n",
       "      <th>294473</th>\n",
       "      <td>751197</td>\n",
       "      <td>2017-01-03 22:28:38.630509</td>\n",
       "      <td>control</td>\n",
       "      <td>old_page</td>\n",
       "      <td>0</td>\n",
       "    </tr>\n",
       "    <tr>\n",
       "      <th>294474</th>\n",
       "      <td>945152</td>\n",
       "      <td>2017-01-12 00:51:57.078372</td>\n",
       "      <td>control</td>\n",
       "      <td>old_page</td>\n",
       "      <td>0</td>\n",
       "    </tr>\n",
       "    <tr>\n",
       "      <th>294475</th>\n",
       "      <td>734608</td>\n",
       "      <td>2017-01-22 11:45:03.439544</td>\n",
       "      <td>control</td>\n",
       "      <td>old_page</td>\n",
       "      <td>0</td>\n",
       "    </tr>\n",
       "    <tr>\n",
       "      <th>294476</th>\n",
       "      <td>697314</td>\n",
       "      <td>2017-01-15 01:20:28.957438</td>\n",
       "      <td>control</td>\n",
       "      <td>old_page</td>\n",
       "      <td>0</td>\n",
       "    </tr>\n",
       "    <tr>\n",
       "      <th>294477</th>\n",
       "      <td>715931</td>\n",
       "      <td>2017-01-16 12:40:24.467417</td>\n",
       "      <td>treatment</td>\n",
       "      <td>new_page</td>\n",
       "      <td>0</td>\n",
       "    </tr>\n",
       "  </tbody>\n",
       "</table>\n",
       "<p>290585 rows × 5 columns</p>\n",
       "</div>"
      ],
      "text/plain": [
       "        user_id                   timestamp      group landing_page  converted\n",
       "0        851104  2017-01-21 22:11:48.556739    control     old_page          0\n",
       "1        804228  2017-01-12 08:01:45.159739    control     old_page          0\n",
       "2        661590  2017-01-11 16:55:06.154213  treatment     new_page          0\n",
       "3        853541  2017-01-08 18:28:03.143765  treatment     new_page          0\n",
       "4        864975  2017-01-21 01:52:26.210827    control     old_page          1\n",
       "...         ...                         ...        ...          ...        ...\n",
       "294473   751197  2017-01-03 22:28:38.630509    control     old_page          0\n",
       "294474   945152  2017-01-12 00:51:57.078372    control     old_page          0\n",
       "294475   734608  2017-01-22 11:45:03.439544    control     old_page          0\n",
       "294476   697314  2017-01-15 01:20:28.957438    control     old_page          0\n",
       "294477   715931  2017-01-16 12:40:24.467417  treatment     new_page          0\n",
       "\n",
       "[290585 rows x 5 columns]"
      ]
     },
     "execution_count": 190,
     "metadata": {},
     "output_type": "execute_result"
    }
   ],
   "source": [
    "df2"
   ]
  },
  {
   "cell_type": "code",
   "execution_count": 191,
   "metadata": {},
   "outputs": [
    {
     "data": {
      "text/plain": [
       "292513"
      ]
     },
     "execution_count": 191,
     "metadata": {},
     "output_type": "execute_result"
    }
   ],
   "source": [
    "len(df1)"
   ]
  },
  {
   "cell_type": "code",
   "execution_count": 192,
   "metadata": {},
   "outputs": [
    {
     "data": {
      "text/plain": [
       "290585"
      ]
     },
     "execution_count": 192,
     "metadata": {},
     "output_type": "execute_result"
    }
   ],
   "source": [
    "len(df2)"
   ]
  },
  {
   "cell_type": "markdown",
   "metadata": {},
   "source": [
    "df1 is 292513 rows vs df2 after removing duplicates is 290585"
   ]
  },
  {
   "cell_type": "code",
   "execution_count": 193,
   "metadata": {},
   "outputs": [
    {
     "data": {
      "text/plain": [
       "0"
      ]
     },
     "execution_count": 193,
     "metadata": {},
     "output_type": "execute_result"
    }
   ],
   "source": [
    "# Double Check all of the correct rows were removed - this should be 0\n",
    "df2[((df2['group'] == 'treatment') == (df2['landing_page'] == 'new_page')) == False].shape[0]"
   ]
  },
  {
   "cell_type": "markdown",
   "metadata": {},
   "source": [
    "Confirmed correct rows were removed, and will use df2 coming forward. "
   ]
  },
  {
   "cell_type": "markdown",
   "metadata": {},
   "source": [
    "`3.` Use **df2** and the cells below to answer questions for **Quiz3** in the classroom."
   ]
  },
  {
   "cell_type": "markdown",
   "metadata": {},
   "source": [
    "a. How many unique **user_id**s are in **df2**?"
   ]
  },
  {
   "cell_type": "code",
   "execution_count": 194,
   "metadata": {},
   "outputs": [
    {
     "data": {
      "text/plain": [
       "290584"
      ]
     },
     "execution_count": 194,
     "metadata": {},
     "output_type": "execute_result"
    }
   ],
   "source": [
    "df2.user_id.nunique()"
   ]
  },
  {
   "cell_type": "markdown",
   "metadata": {},
   "source": [
    "There's 290584 unique users in df2"
   ]
  },
  {
   "cell_type": "markdown",
   "metadata": {
    "collapsed": true
   },
   "source": [
    "b. There is one **user_id** repeated in **df2**.  What is it?"
   ]
  },
  {
   "cell_type": "code",
   "execution_count": 195,
   "metadata": {},
   "outputs": [
    {
     "data": {
      "text/html": [
       "<div>\n",
       "<style scoped>\n",
       "    .dataframe tbody tr th:only-of-type {\n",
       "        vertical-align: middle;\n",
       "    }\n",
       "\n",
       "    .dataframe tbody tr th {\n",
       "        vertical-align: top;\n",
       "    }\n",
       "\n",
       "    .dataframe thead th {\n",
       "        text-align: right;\n",
       "    }\n",
       "</style>\n",
       "<table border=\"1\" class=\"dataframe\">\n",
       "  <thead>\n",
       "    <tr style=\"text-align: right;\">\n",
       "      <th></th>\n",
       "      <th>user_id</th>\n",
       "      <th>timestamp</th>\n",
       "      <th>group</th>\n",
       "      <th>landing_page</th>\n",
       "      <th>converted</th>\n",
       "    </tr>\n",
       "  </thead>\n",
       "  <tbody>\n",
       "    <tr>\n",
       "      <th>1899</th>\n",
       "      <td>773192</td>\n",
       "      <td>2017-01-09 05:37:58.781806</td>\n",
       "      <td>treatment</td>\n",
       "      <td>new_page</td>\n",
       "      <td>0</td>\n",
       "    </tr>\n",
       "    <tr>\n",
       "      <th>2893</th>\n",
       "      <td>773192</td>\n",
       "      <td>2017-01-14 02:55:59.590927</td>\n",
       "      <td>treatment</td>\n",
       "      <td>new_page</td>\n",
       "      <td>0</td>\n",
       "    </tr>\n",
       "  </tbody>\n",
       "</table>\n",
       "</div>"
      ],
      "text/plain": [
       "      user_id                   timestamp      group landing_page  converted\n",
       "1899   773192  2017-01-09 05:37:58.781806  treatment     new_page          0\n",
       "2893   773192  2017-01-14 02:55:59.590927  treatment     new_page          0"
      ]
     },
     "execution_count": 195,
     "metadata": {},
     "output_type": "execute_result"
    }
   ],
   "source": [
    "df2[df2.user_id.duplicated(keep=False)]"
   ]
  },
  {
   "cell_type": "markdown",
   "metadata": {},
   "source": [
    "User with **user_id** <u>**773192**</u> repated twice in df2."
   ]
  },
  {
   "cell_type": "markdown",
   "metadata": {},
   "source": [
    "c. What is the row information for the repeat **user_id**? "
   ]
  },
  {
   "cell_type": "markdown",
   "metadata": {
    "collapsed": true
   },
   "source": [
    "Rows **1899** and **2893** can be checked for **user_id** <u>**773192**</u>."
   ]
  },
  {
   "cell_type": "markdown",
   "metadata": {},
   "source": [
    "d. Remove **one** of the rows with a duplicate **user_id**, but keep your dataframe as **df2**."
   ]
  },
  {
   "cell_type": "code",
   "execution_count": 196,
   "metadata": {},
   "outputs": [
    {
     "data": {
      "text/plain": [
       "290585"
      ]
     },
     "execution_count": 196,
     "metadata": {},
     "output_type": "execute_result"
    }
   ],
   "source": [
    "len(df2)"
   ]
  },
  {
   "cell_type": "code",
   "execution_count": 197,
   "metadata": {},
   "outputs": [],
   "source": [
    "df2.drop(index=2893,inplace=True)"
   ]
  },
  {
   "cell_type": "code",
   "execution_count": 198,
   "metadata": {},
   "outputs": [
    {
     "data": {
      "text/plain": [
       "290584"
      ]
     },
     "execution_count": 198,
     "metadata": {},
     "output_type": "execute_result"
    }
   ],
   "source": [
    "len(df2)"
   ]
  },
  {
   "cell_type": "markdown",
   "metadata": {},
   "source": [
    "Removed duplicate line <u>**2893**</u>, and confirmed it by knowing the size of df2. Before dropping the duplicate line: 290585, and df2 size is 290584 after dropping the duplicate line. "
   ]
  },
  {
   "cell_type": "markdown",
   "metadata": {},
   "source": [
    "`4.` Use **df2** in the below cells to answer the quiz questions related to **Quiz 4** in the classroom.\n",
    "\n",
    "a. What is the probability of an individual converting regardless of the page they receive?"
   ]
  },
  {
   "cell_type": "code",
   "execution_count": 199,
   "metadata": {},
   "outputs": [
    {
     "data": {
      "text/plain": [
       "0.11959708724499628"
      ]
     },
     "execution_count": 199,
     "metadata": {},
     "output_type": "execute_result"
    }
   ],
   "source": [
    "df2[df2.converted == 1].shape[0]/df2.shape[0]"
   ]
  },
  {
   "cell_type": "code",
   "execution_count": 200,
   "metadata": {},
   "outputs": [
    {
     "data": {
      "text/plain": [
       "0.11959708724499628"
      ]
     },
     "execution_count": 200,
     "metadata": {},
     "output_type": "execute_result"
    }
   ],
   "source": [
    "df2['converted'].mean()"
   ]
  },
  {
   "cell_type": "markdown",
   "metadata": {},
   "source": [
    "**Probability** of an <u>**individual converting regardless of the received page**</u>: **0.11959708724499628**<br>\n",
    "Note: Verified the output by two different methods using mean and manualy."
   ]
  },
  {
   "cell_type": "markdown",
   "metadata": {},
   "source": [
    "b. Given that an individual was in the `control` group, what is the probability they converted?"
   ]
  },
  {
   "cell_type": "code",
   "execution_count": 201,
   "metadata": {},
   "outputs": [
    {
     "data": {
      "text/plain": [
       "0.1203863045004612"
      ]
     },
     "execution_count": 201,
     "metadata": {},
     "output_type": "execute_result"
    }
   ],
   "source": [
    "df2[(df2.converted == 1)&(df2.group == 'control')].shape[0]/df2[df2.group == 'control'].shape[0]"
   ]
  },
  {
   "cell_type": "code",
   "execution_count": 202,
   "metadata": {},
   "outputs": [
    {
     "data": {
      "text/html": [
       "<div>\n",
       "<style scoped>\n",
       "    .dataframe tbody tr th:only-of-type {\n",
       "        vertical-align: middle;\n",
       "    }\n",
       "\n",
       "    .dataframe tbody tr th {\n",
       "        vertical-align: top;\n",
       "    }\n",
       "\n",
       "    .dataframe thead th {\n",
       "        text-align: right;\n",
       "    }\n",
       "</style>\n",
       "<table border=\"1\" class=\"dataframe\">\n",
       "  <thead>\n",
       "    <tr style=\"text-align: right;\">\n",
       "      <th></th>\n",
       "      <th>user_id</th>\n",
       "      <th>converted</th>\n",
       "    </tr>\n",
       "    <tr>\n",
       "      <th>group</th>\n",
       "      <th></th>\n",
       "      <th></th>\n",
       "    </tr>\n",
       "  </thead>\n",
       "  <tbody>\n",
       "    <tr>\n",
       "      <th>control</th>\n",
       "      <td>788164.072594</td>\n",
       "      <td>0.120386</td>\n",
       "    </tr>\n",
       "    <tr>\n",
       "      <th>treatment</th>\n",
       "      <td>787845.719290</td>\n",
       "      <td>0.118808</td>\n",
       "    </tr>\n",
       "  </tbody>\n",
       "</table>\n",
       "</div>"
      ],
      "text/plain": [
       "                 user_id  converted\n",
       "group                              \n",
       "control    788164.072594   0.120386\n",
       "treatment  787845.719290   0.118808"
      ]
     },
     "execution_count": 202,
     "metadata": {},
     "output_type": "execute_result"
    }
   ],
   "source": [
    "df2.groupby(['group']).mean()"
   ]
  },
  {
   "cell_type": "markdown",
   "metadata": {},
   "source": [
    "**Probability** of an <u>**individual in control group converting regardless of the received page**</u>: **0.1203863045004612**<br>\n",
    "Note: Verified the output by two different methods using mean and manualy."
   ]
  },
  {
   "cell_type": "markdown",
   "metadata": {},
   "source": [
    "c. Given that an individual was in the `treatment` group, what is the probability they converted?"
   ]
  },
  {
   "cell_type": "code",
   "execution_count": 203,
   "metadata": {},
   "outputs": [
    {
     "data": {
      "text/plain": [
       "0.11880806551510564"
      ]
     },
     "execution_count": 203,
     "metadata": {},
     "output_type": "execute_result"
    }
   ],
   "source": [
    "df2[(df2.converted == 1)&(df2.group == 'treatment')].shape[0]/df2[df2.group == 'treatment'].shape[0]"
   ]
  },
  {
   "cell_type": "markdown",
   "metadata": {},
   "source": [
    "**Probability** of an <u>**individual in treatment group converting regardless of the received page**</u>: **0.11880806551510564**<br>\n",
    "Note: Verified the output by two different methods using mean and manualy."
   ]
  },
  {
   "cell_type": "markdown",
   "metadata": {},
   "source": [
    "d. What is the probability that an individual received the new page?"
   ]
  },
  {
   "cell_type": "code",
   "execution_count": 204,
   "metadata": {},
   "outputs": [
    {
     "data": {
      "text/plain": [
       "0.5000619442226688"
      ]
     },
     "execution_count": 204,
     "metadata": {},
     "output_type": "execute_result"
    }
   ],
   "source": [
    "df2['user_id'][df2['landing_page'] == 'new_page'].nunique()/df2['user_id'].nunique()"
   ]
  },
  {
   "cell_type": "markdown",
   "metadata": {},
   "source": [
    "**Probability** of receiving **new_page** is **0.5000619442226688**"
   ]
  },
  {
   "cell_type": "code",
   "execution_count": 205,
   "metadata": {},
   "outputs": [
    {
     "data": {
      "text/plain": [
       "0.11880806551510564"
      ]
     },
     "execution_count": 205,
     "metadata": {},
     "output_type": "execute_result"
    }
   ],
   "source": [
    "df2['user_id'][(df['converted'] ==1)&(df2['landing_page']=='new_page')].nunique()/df2['user_id'][df2['landing_page']=='new_page'].nunique()"
   ]
  },
  {
   "cell_type": "markdown",
   "metadata": {},
   "source": [
    "Regardles of the group, the **probability** of the user who **recived new_page** to **convert** is **0.11880806551510564** "
   ]
  },
  {
   "cell_type": "code",
   "execution_count": 206,
   "metadata": {},
   "outputs": [
    {
     "data": {
      "text/plain": [
       "0.1203863045004612"
      ]
     },
     "execution_count": 206,
     "metadata": {},
     "output_type": "execute_result"
    }
   ],
   "source": [
    "df2['user_id'][(df['converted'] ==1)&(df2['landing_page']=='old_page')].nunique()/df2['user_id'][df2['landing_page']=='old_page'].nunique()"
   ]
  },
  {
   "cell_type": "markdown",
   "metadata": {},
   "source": [
    "Regardles of the group, the **probability** of the user who **recived old_page** to convert is **0.1203863045004612**"
   ]
  },
  {
   "cell_type": "markdown",
   "metadata": {},
   "source": [
    "e. Consider your results from a. through d. above, and explain below whether you think there is sufficient evidence to say that the new treatment page leads to more conversions."
   ]
  },
  {
   "cell_type": "markdown",
   "metadata": {},
   "source": [
    "<u>**Notes taken earlier:**</u><br>\n",
    "- There is **290584 users**<br>\n",
    "- **Probability** of an <u>**individual converting regardless of the received page**</u>: **0.11959708724499628**<br> \n",
    "- **Probability** of an <u>**individual in control group converting regardless of the received page**</u>: **0.1203863045004612** <br>\n",
    "- **Probability** of an <u>**individual in treatment group converting regardless of the received page**</u>: **0.11880806551510564**<br>\n",
    "- **Probability** of receiving **new_page** is **0.5000619442226688**<br>\n",
    "- Regardles of the group, the **probability** of the user who **recived new_page** to **convert** is **0.11880806551510564**<br>\n",
    "- Regardles of the group, the **probability** of the user who **recived old_page** to convert is **0.1203863045004612**\n",
    "\n",
    "<u>**Based on the notes above:**</u><br>\n",
    ">- No evidence supports the claim that new_page will lead to more rates of conversion. \n",
    ">- The test is well designed in terms of the number of users  **290584 users**, and the fact that **half of the users** received the **new_page**, and accordingly 50% of the users received the **old_page**.<br>\n",
    ">- Around 11.88% of the users who received new_page convert, that's regardless of the group the user belongs to.\n",
    ">- 12.04% that received the old_page were converted. In conclusion, the new_page did not increase the conversion rate."
   ]
  },
  {
   "cell_type": "markdown",
   "metadata": {},
   "source": [
    "<a id='ab_test'></a>\n",
    "### Part II - A/B Test\n",
    "\n",
    "Notice that because of the time stamp associated with each event, you could technically run a hypothesis test continuously as each observation was observed.  \n",
    "\n",
    "However, then the hard question is do you stop as soon as one page is considered significantly better than another or does it need to happen consistently for a certain amount of time?  How long do you run to render a decision that neither page is better than another?  \n",
    "\n",
    "These questions are the difficult parts associated with A/B tests in general.  \n",
    "\n",
    "\n",
    "`1.` For now, consider you need to make the decision just based on all the data provided.  If you want to assume that the old page is better unless the new page proves to be definitely better at a Type I error rate of 5%, what should your null and alternative hypotheses be?  You can state your hypothesis in terms of words or in terms of **$p_{old}$** and **$p_{new}$**, which are the converted rates for the old and new pages."
   ]
  },
  {
   "cell_type": "markdown",
   "metadata": {},
   "source": [
    "\n",
    "- <u>**Null hypothesis:**</u>\n",
    "The conversion rate of the old_page is greater than or equal to the conversion rate of the new_page.<br>\n",
    ">**$H_{null}$** : **$p_{old}$**>= **$p_{new}$**<br>\n",
    "\n",
    "\n",
    "\n",
    "- <u>**Alternative hypothesis:**</u>\n",
    "The conversion rate of the old_page is less than the conversion rate of the new_page. \n",
    ">**$H_{alternative}$** : **$p_{old}$**<**$p_{new}$**<br>\n",
    "\n",
    "Note:\n",
    ">We use sample data to check if **null hypothesis** is valid. If the **null hypothesis** claim isn’t valid, then the  **alternative hypothesis** will be used instead."
   ]
  },
  {
   "cell_type": "markdown",
   "metadata": {},
   "source": [
    "`2.` Assume under the null hypothesis, $p_{new}$ and $p_{old}$ both have \"true\" success rates equal to the **converted** success rate regardless of page - that is $p_{new}$ and $p_{old}$ are equal. Furthermore, assume they are equal to the **converted** rate in **ab_data.csv** regardless of the page. <br><br>\n",
    "\n",
    "Use a sample size for each page equal to the ones in **ab_data.csv**.  <br><br>\n",
    "\n",
    "Perform the sampling distribution for the difference in **converted** between the two pages over 10,000 iterations of calculating an estimate from the null.  <br><br>\n",
    "\n",
    "Use the cells below to provide the necessary parts of this simulation.  If this doesn't make complete sense right now, don't worry - you are going to work through the problems below to complete this problem.  You can use **Quiz 5** in the classroom to make sure you are on the right track.<br><br>"
   ]
  },
  {
   "cell_type": "markdown",
   "metadata": {},
   "source": [
    "a. What is the **convert rate** for $p_{new}$ under the null? "
   ]
  },
  {
   "cell_type": "markdown",
   "metadata": {
    "collapsed": true
   },
   "source": [
    "Null hypothesis assumes no difference between the conversion rates of old and new page.Accordingly the whole dataset is used to calculate **$p_{new}$**. "
   ]
  },
  {
   "cell_type": "code",
   "execution_count": 207,
   "metadata": {},
   "outputs": [
    {
     "data": {
      "text/plain": [
       "0.11959708724499628"
      ]
     },
     "execution_count": 207,
     "metadata": {},
     "output_type": "execute_result"
    }
   ],
   "source": [
    "df2[df2.converted == 1].shape[0]/df2.shape[0]"
   ]
  },
  {
   "cell_type": "code",
   "execution_count": 208,
   "metadata": {},
   "outputs": [
    {
     "data": {
      "text/plain": [
       "0.11959708724499628"
      ]
     },
     "execution_count": 208,
     "metadata": {},
     "output_type": "execute_result"
    }
   ],
   "source": [
    "P_new=df2['converted'].mean()\n",
    "P_new"
   ]
  },
  {
   "cell_type": "markdown",
   "metadata": {},
   "source": [
    "Accordingly $p_{new}$ under the null = 0.1195971"
   ]
  },
  {
   "cell_type": "markdown",
   "metadata": {},
   "source": [
    "b. What is the **convert rate** for $p_{old}$ under the null? <br><br>"
   ]
  },
  {
   "cell_type": "markdown",
   "metadata": {
    "collapsed": true
   },
   "source": [
    "Null hypothesis assumes no difference between the conversion rates of old and new page.Accordingly the whole dataset is used to calculate **$p_{old}$**. "
   ]
  },
  {
   "cell_type": "code",
   "execution_count": 209,
   "metadata": {},
   "outputs": [
    {
     "data": {
      "text/plain": [
       "0.11959708724499628"
      ]
     },
     "execution_count": 209,
     "metadata": {},
     "output_type": "execute_result"
    }
   ],
   "source": [
    "P_old=df2['converted'].mean()\n",
    "P_old"
   ]
  },
  {
   "cell_type": "markdown",
   "metadata": {},
   "source": [
    "Accordingly $p_{old}$ under the null = 0.1195971"
   ]
  },
  {
   "cell_type": "markdown",
   "metadata": {},
   "source": [
    "c. What is $n_{new}$?"
   ]
  },
  {
   "cell_type": "markdown",
   "metadata": {},
   "source": [
    "$n_{new}$ is the number of users who landed **new_page**. i.e **landing_page == new_page**"
   ]
  },
  {
   "cell_type": "code",
   "execution_count": 210,
   "metadata": {},
   "outputs": [
    {
     "data": {
      "text/html": [
       "<div>\n",
       "<style scoped>\n",
       "    .dataframe tbody tr th:only-of-type {\n",
       "        vertical-align: middle;\n",
       "    }\n",
       "\n",
       "    .dataframe tbody tr th {\n",
       "        vertical-align: top;\n",
       "    }\n",
       "\n",
       "    .dataframe thead th {\n",
       "        text-align: right;\n",
       "    }\n",
       "</style>\n",
       "<table border=\"1\" class=\"dataframe\">\n",
       "  <thead>\n",
       "    <tr style=\"text-align: right;\">\n",
       "      <th></th>\n",
       "      <th>user_id</th>\n",
       "      <th>timestamp</th>\n",
       "      <th>group</th>\n",
       "      <th>landing_page</th>\n",
       "      <th>converted</th>\n",
       "    </tr>\n",
       "  </thead>\n",
       "  <tbody>\n",
       "    <tr>\n",
       "      <th>2</th>\n",
       "      <td>661590</td>\n",
       "      <td>2017-01-11 16:55:06.154213</td>\n",
       "      <td>treatment</td>\n",
       "      <td>new_page</td>\n",
       "      <td>0</td>\n",
       "    </tr>\n",
       "    <tr>\n",
       "      <th>3</th>\n",
       "      <td>853541</td>\n",
       "      <td>2017-01-08 18:28:03.143765</td>\n",
       "      <td>treatment</td>\n",
       "      <td>new_page</td>\n",
       "      <td>0</td>\n",
       "    </tr>\n",
       "    <tr>\n",
       "      <th>6</th>\n",
       "      <td>679687</td>\n",
       "      <td>2017-01-19 03:26:46.940749</td>\n",
       "      <td>treatment</td>\n",
       "      <td>new_page</td>\n",
       "      <td>1</td>\n",
       "    </tr>\n",
       "    <tr>\n",
       "      <th>8</th>\n",
       "      <td>817355</td>\n",
       "      <td>2017-01-04 17:58:08.979471</td>\n",
       "      <td>treatment</td>\n",
       "      <td>new_page</td>\n",
       "      <td>1</td>\n",
       "    </tr>\n",
       "    <tr>\n",
       "      <th>9</th>\n",
       "      <td>839785</td>\n",
       "      <td>2017-01-15 18:11:06.610965</td>\n",
       "      <td>treatment</td>\n",
       "      <td>new_page</td>\n",
       "      <td>1</td>\n",
       "    </tr>\n",
       "    <tr>\n",
       "      <th>...</th>\n",
       "      <td>...</td>\n",
       "      <td>...</td>\n",
       "      <td>...</td>\n",
       "      <td>...</td>\n",
       "      <td>...</td>\n",
       "    </tr>\n",
       "    <tr>\n",
       "      <th>294462</th>\n",
       "      <td>677163</td>\n",
       "      <td>2017-01-03 19:41:51.902148</td>\n",
       "      <td>treatment</td>\n",
       "      <td>new_page</td>\n",
       "      <td>0</td>\n",
       "    </tr>\n",
       "    <tr>\n",
       "      <th>294465</th>\n",
       "      <td>925675</td>\n",
       "      <td>2017-01-07 20:38:26.346410</td>\n",
       "      <td>treatment</td>\n",
       "      <td>new_page</td>\n",
       "      <td>0</td>\n",
       "    </tr>\n",
       "    <tr>\n",
       "      <th>294468</th>\n",
       "      <td>643562</td>\n",
       "      <td>2017-01-02 19:20:05.460595</td>\n",
       "      <td>treatment</td>\n",
       "      <td>new_page</td>\n",
       "      <td>0</td>\n",
       "    </tr>\n",
       "    <tr>\n",
       "      <th>294472</th>\n",
       "      <td>822004</td>\n",
       "      <td>2017-01-04 03:36:46.071379</td>\n",
       "      <td>treatment</td>\n",
       "      <td>new_page</td>\n",
       "      <td>0</td>\n",
       "    </tr>\n",
       "    <tr>\n",
       "      <th>294477</th>\n",
       "      <td>715931</td>\n",
       "      <td>2017-01-16 12:40:24.467417</td>\n",
       "      <td>treatment</td>\n",
       "      <td>new_page</td>\n",
       "      <td>0</td>\n",
       "    </tr>\n",
       "  </tbody>\n",
       "</table>\n",
       "<p>145310 rows × 5 columns</p>\n",
       "</div>"
      ],
      "text/plain": [
       "        user_id                   timestamp      group landing_page  converted\n",
       "2        661590  2017-01-11 16:55:06.154213  treatment     new_page          0\n",
       "3        853541  2017-01-08 18:28:03.143765  treatment     new_page          0\n",
       "6        679687  2017-01-19 03:26:46.940749  treatment     new_page          1\n",
       "8        817355  2017-01-04 17:58:08.979471  treatment     new_page          1\n",
       "9        839785  2017-01-15 18:11:06.610965  treatment     new_page          1\n",
       "...         ...                         ...        ...          ...        ...\n",
       "294462   677163  2017-01-03 19:41:51.902148  treatment     new_page          0\n",
       "294465   925675  2017-01-07 20:38:26.346410  treatment     new_page          0\n",
       "294468   643562  2017-01-02 19:20:05.460595  treatment     new_page          0\n",
       "294472   822004  2017-01-04 03:36:46.071379  treatment     new_page          0\n",
       "294477   715931  2017-01-16 12:40:24.467417  treatment     new_page          0\n",
       "\n",
       "[145310 rows x 5 columns]"
      ]
     },
     "execution_count": 210,
     "metadata": {},
     "output_type": "execute_result"
    }
   ],
   "source": [
    "df2[df2['landing_page']=='new_page']"
   ]
  },
  {
   "cell_type": "code",
   "execution_count": 211,
   "metadata": {},
   "outputs": [
    {
     "data": {
      "text/plain": [
       "145310"
      ]
     },
     "execution_count": 211,
     "metadata": {},
     "output_type": "execute_result"
    }
   ],
   "source": [
    "n_new=len(df2[df2['landing_page']=='new_page'])\n",
    "n_new"
   ]
  },
  {
   "cell_type": "code",
   "execution_count": 212,
   "metadata": {},
   "outputs": [
    {
     "data": {
      "text/plain": [
       "0.5000619442226688"
      ]
     },
     "execution_count": 212,
     "metadata": {},
     "output_type": "execute_result"
    }
   ],
   "source": [
    "n_new/len(df2)"
   ]
  },
  {
   "cell_type": "markdown",
   "metadata": {},
   "source": [
    "Number of **users** who landed on **new_page** is **145310**. Around 50% (exactly 50.0062%) of the users landed on the new page.  "
   ]
  },
  {
   "cell_type": "markdown",
   "metadata": {},
   "source": [
    "d. What is $n_{old}$?"
   ]
  },
  {
   "cell_type": "markdown",
   "metadata": {},
   "source": [
    "$n_{old}$ is the number of users who landed **old_page**. i.e **landing_page == old_page**"
   ]
  },
  {
   "cell_type": "code",
   "execution_count": 213,
   "metadata": {},
   "outputs": [
    {
     "data": {
      "text/html": [
       "<div>\n",
       "<style scoped>\n",
       "    .dataframe tbody tr th:only-of-type {\n",
       "        vertical-align: middle;\n",
       "    }\n",
       "\n",
       "    .dataframe tbody tr th {\n",
       "        vertical-align: top;\n",
       "    }\n",
       "\n",
       "    .dataframe thead th {\n",
       "        text-align: right;\n",
       "    }\n",
       "</style>\n",
       "<table border=\"1\" class=\"dataframe\">\n",
       "  <thead>\n",
       "    <tr style=\"text-align: right;\">\n",
       "      <th></th>\n",
       "      <th>user_id</th>\n",
       "      <th>timestamp</th>\n",
       "      <th>group</th>\n",
       "      <th>landing_page</th>\n",
       "      <th>converted</th>\n",
       "    </tr>\n",
       "  </thead>\n",
       "  <tbody>\n",
       "    <tr>\n",
       "      <th>0</th>\n",
       "      <td>851104</td>\n",
       "      <td>2017-01-21 22:11:48.556739</td>\n",
       "      <td>control</td>\n",
       "      <td>old_page</td>\n",
       "      <td>0</td>\n",
       "    </tr>\n",
       "    <tr>\n",
       "      <th>1</th>\n",
       "      <td>804228</td>\n",
       "      <td>2017-01-12 08:01:45.159739</td>\n",
       "      <td>control</td>\n",
       "      <td>old_page</td>\n",
       "      <td>0</td>\n",
       "    </tr>\n",
       "    <tr>\n",
       "      <th>4</th>\n",
       "      <td>864975</td>\n",
       "      <td>2017-01-21 01:52:26.210827</td>\n",
       "      <td>control</td>\n",
       "      <td>old_page</td>\n",
       "      <td>1</td>\n",
       "    </tr>\n",
       "    <tr>\n",
       "      <th>5</th>\n",
       "      <td>936923</td>\n",
       "      <td>2017-01-10 15:20:49.083499</td>\n",
       "      <td>control</td>\n",
       "      <td>old_page</td>\n",
       "      <td>0</td>\n",
       "    </tr>\n",
       "    <tr>\n",
       "      <th>7</th>\n",
       "      <td>719014</td>\n",
       "      <td>2017-01-17 01:48:29.539573</td>\n",
       "      <td>control</td>\n",
       "      <td>old_page</td>\n",
       "      <td>0</td>\n",
       "    </tr>\n",
       "    <tr>\n",
       "      <th>...</th>\n",
       "      <td>...</td>\n",
       "      <td>...</td>\n",
       "      <td>...</td>\n",
       "      <td>...</td>\n",
       "      <td>...</td>\n",
       "    </tr>\n",
       "    <tr>\n",
       "      <th>294471</th>\n",
       "      <td>718310</td>\n",
       "      <td>2017-01-21 22:44:20.378320</td>\n",
       "      <td>control</td>\n",
       "      <td>old_page</td>\n",
       "      <td>0</td>\n",
       "    </tr>\n",
       "    <tr>\n",
       "      <th>294473</th>\n",
       "      <td>751197</td>\n",
       "      <td>2017-01-03 22:28:38.630509</td>\n",
       "      <td>control</td>\n",
       "      <td>old_page</td>\n",
       "      <td>0</td>\n",
       "    </tr>\n",
       "    <tr>\n",
       "      <th>294474</th>\n",
       "      <td>945152</td>\n",
       "      <td>2017-01-12 00:51:57.078372</td>\n",
       "      <td>control</td>\n",
       "      <td>old_page</td>\n",
       "      <td>0</td>\n",
       "    </tr>\n",
       "    <tr>\n",
       "      <th>294475</th>\n",
       "      <td>734608</td>\n",
       "      <td>2017-01-22 11:45:03.439544</td>\n",
       "      <td>control</td>\n",
       "      <td>old_page</td>\n",
       "      <td>0</td>\n",
       "    </tr>\n",
       "    <tr>\n",
       "      <th>294476</th>\n",
       "      <td>697314</td>\n",
       "      <td>2017-01-15 01:20:28.957438</td>\n",
       "      <td>control</td>\n",
       "      <td>old_page</td>\n",
       "      <td>0</td>\n",
       "    </tr>\n",
       "  </tbody>\n",
       "</table>\n",
       "<p>145274 rows × 5 columns</p>\n",
       "</div>"
      ],
      "text/plain": [
       "        user_id                   timestamp    group landing_page  converted\n",
       "0        851104  2017-01-21 22:11:48.556739  control     old_page          0\n",
       "1        804228  2017-01-12 08:01:45.159739  control     old_page          0\n",
       "4        864975  2017-01-21 01:52:26.210827  control     old_page          1\n",
       "5        936923  2017-01-10 15:20:49.083499  control     old_page          0\n",
       "7        719014  2017-01-17 01:48:29.539573  control     old_page          0\n",
       "...         ...                         ...      ...          ...        ...\n",
       "294471   718310  2017-01-21 22:44:20.378320  control     old_page          0\n",
       "294473   751197  2017-01-03 22:28:38.630509  control     old_page          0\n",
       "294474   945152  2017-01-12 00:51:57.078372  control     old_page          0\n",
       "294475   734608  2017-01-22 11:45:03.439544  control     old_page          0\n",
       "294476   697314  2017-01-15 01:20:28.957438  control     old_page          0\n",
       "\n",
       "[145274 rows x 5 columns]"
      ]
     },
     "execution_count": 213,
     "metadata": {},
     "output_type": "execute_result"
    }
   ],
   "source": [
    "df2[df2['landing_page']=='old_page']"
   ]
  },
  {
   "cell_type": "code",
   "execution_count": 214,
   "metadata": {},
   "outputs": [
    {
     "data": {
      "text/plain": [
       "145274"
      ]
     },
     "execution_count": 214,
     "metadata": {},
     "output_type": "execute_result"
    }
   ],
   "source": [
    "n_old=len(df2[df2['landing_page']=='old_page'])\n",
    "n_old"
   ]
  },
  {
   "cell_type": "code",
   "execution_count": 215,
   "metadata": {},
   "outputs": [
    {
     "data": {
      "text/plain": [
       "0.4999380557773312"
      ]
     },
     "execution_count": 215,
     "metadata": {},
     "output_type": "execute_result"
    }
   ],
   "source": [
    "n_old/len(df2)"
   ]
  },
  {
   "cell_type": "markdown",
   "metadata": {},
   "source": [
    "Number of **users** who landed on **old_page** is **145274**. Around 50% (exactly 49.9938%) of the users landed on the new page.  "
   ]
  },
  {
   "cell_type": "markdown",
   "metadata": {},
   "source": [
    "e. Simulate $n_{new}$ transactions with a convert rate of $p_{new}$ under the null.  Store these $n_{new}$ 1's and 0's in **new_page_converted**."
   ]
  },
  {
   "cell_type": "code",
   "execution_count": 228,
   "metadata": {},
   "outputs": [
    {
     "data": {
      "text/plain": [
       "0.1219393021815429"
      ]
     },
     "execution_count": 228,
     "metadata": {},
     "output_type": "execute_result"
    }
   ],
   "source": [
    "new_page_converted = np.random.binomial(1,P_new,n_new)\n",
    "new_page_converted.mean()\n",
    "#new_page_converted = np.random.choice([1, 0], size=n_new, p=[P_new, 1-P_new])\n",
    "#new_page_converted.mean()\n"
   ]
  },
  {
   "cell_type": "markdown",
   "metadata": {},
   "source": [
    "Note: Decided to use bionomial instead of random to avoid long run time, later on. "
   ]
  },
  {
   "cell_type": "markdown",
   "metadata": {},
   "source": [
    "$n_{new}$ transactions with a convert rate of $p_{new}$ under the null (new_page_converted) is 0.121"
   ]
  },
  {
   "cell_type": "markdown",
   "metadata": {},
   "source": [
    "f. Simulate $n_{old}$ transactions with a convert rate of $p_{old}$ under the null.  Store these $n_{old}$ 1's and 0's in **old_page_converted**."
   ]
  },
  {
   "cell_type": "code",
   "execution_count": 229,
   "metadata": {},
   "outputs": [
    {
     "data": {
      "text/plain": [
       "0.11987692222971763"
      ]
     },
     "execution_count": 229,
     "metadata": {},
     "output_type": "execute_result"
    }
   ],
   "source": [
    "old_page_converted = np.random.binomial(1,P_old,n_old)\n",
    "old_page_converted.mean()"
   ]
  },
  {
   "cell_type": "markdown",
   "metadata": {},
   "source": [
    "$n_{old}$ transactions with a convert rate of $p_{old}$ under the null (old_page_converted) is 0.1198"
   ]
  },
  {
   "cell_type": "markdown",
   "metadata": {},
   "source": [
    "g. Find $p_{new}$ - $p_{old}$ for your simulated values from part (e) and (f)."
   ]
  },
  {
   "cell_type": "code",
   "execution_count": 230,
   "metadata": {},
   "outputs": [
    {
     "data": {
      "text/plain": [
       "0.0020623799518252744"
      ]
     },
     "execution_count": 230,
     "metadata": {},
     "output_type": "execute_result"
    }
   ],
   "source": [
    "new_page_converted.mean() - old_page_converted.mean()"
   ]
  },
  {
   "cell_type": "markdown",
   "metadata": {},
   "source": [
    "I got error ValueError: operands could not be broadcast together with shapes (145310,) (145274,) on subtraction.\n",
    "As both operands have different size, I decided to use mean. <br>\n",
    "$p_{new}$ - $p_{old}$  = 0.00206"
   ]
  },
  {
   "cell_type": "markdown",
   "metadata": {},
   "source": [
    "h. Simulate 10,000 $p_{new}$ - $p_{old}$ values using this same process similarly to the one you calculated in parts **a. through g.** above.  Store all 10,000 values in a numpy array called **p_diffs**."
   ]
  },
  {
   "cell_type": "markdown",
   "metadata": {
    "collapsed": true
   },
   "source": [
    "Running simmulation 10 K times"
   ]
  },
  {
   "cell_type": "code",
   "execution_count": 231,
   "metadata": {},
   "outputs": [],
   "source": [
    "p_diffs = []\n",
    "\n",
    "for _ in range(10000):\n",
    "    new_page_converted = np.random.binomial(1,P_new,n_new).mean()\n",
    "    old_page_converted = np.random.binomial(1,P_old,n_old).mean()\n",
    "    p_diffs.append(new_page_converted - old_page_converted)"
   ]
  },
  {
   "cell_type": "code",
   "execution_count": 232,
   "metadata": {},
   "outputs": [
    {
     "data": {
      "text/plain": [
       "[-0.0017364411259048335,\n",
       " -0.0002500338594485507,\n",
       " -0.00029800549735539694,\n",
       " 0.0009616933233364544,\n",
       " 0.0016429083932755495,\n",
       " 0.0020766228389845764,\n",
       " -0.0019843919683171923,\n",
       " 0.0006171733336221563,\n",
       " 0.0007549141378549173,\n",
       " 0.0020832795687207722,\n",
       " 5.064859807960009e-06,\n",
       " -0.0014749909384827176,\n",
       " 0.001959266629332726,\n",
       " 0.00025240347370728,\n",
       " -0.0010620754927269244,\n",
       " -0.0007109175323673639,\n",
       " 0.0003005951045895461,\n",
       " 0.0015811236219288732,\n",
       " 0.0009546835816164334,\n",
       " -0.0015576343977992124,\n",
       " 0.0010783827325743789,\n",
       " -0.00036024048688435006,\n",
       " 0.0015948190847074328,\n",
       " -0.002280425297810057,\n",
       " -0.0009106170558808718,\n",
       " 0.0005556153767385247,\n",
       " 0.00036270901271343026,\n",
       " 0.0014090384276917445,\n",
       " 0.0018700141906933115,\n",
       " -0.000972371130533306,\n",
       " 0.00048660257606829294,\n",
       " 0.002076496641463782,\n",
       " -0.0005182516257805359,\n",
       " -0.0021014923721836554,\n",
       " 0.0002043380403457945,\n",
       " 0.0008929175693606767,\n",
       " -0.0005731051025147094,\n",
       " -0.0011997480820835627,\n",
       " 0.0002800178029836453,\n",
       " -0.00031867147830022535,\n",
       " 0.0009476704291525861,\n",
       " 0.0010988918193041708,\n",
       " 0.0004521780335844938,\n",
       " -0.0014403412869077592,\n",
       " 0.0006930884375825758,\n",
       " -0.0007865904735176038,\n",
       " 0.0008927009871290414,\n",
       " 0.0017873758474925006,\n",
       " 0.0009065601656102484,\n",
       " -0.0016537737913816936,\n",
       " 0.0006104756749603091,\n",
       " 0.001332908446871603,\n",
       " 0.00041079661590964767,\n",
       " 0.001037425952503293,\n",
       " -0.0021423689997753237,\n",
       " 0.0003144969173683315,\n",
       " -0.0020531233826235062,\n",
       " -0.0007111221769956905,\n",
       " 0.0022486790418993624,\n",
       " -0.0013165415190075636,\n",
       " 0.0012708559321362028,\n",
       " 0.00027303875795786636,\n",
       " -0.0007729257074332863,\n",
       " 0.0007342379246786657,\n",
       " -0.0007592541198613717,\n",
       " -0.0013510410978550685,\n",
       " -0.0005527170971900003,\n",
       " -0.0006283576362740989,\n",
       " -0.00035323074516432906,\n",
       " -0.0008899340212170093,\n",
       " -0.0008488493382532297,\n",
       " -0.001826101148428988,\n",
       " -0.00023600414377707157,\n",
       " -0.0005044913588696798,\n",
       " 0.001195575226523582,\n",
       " 0.0015741974434320682,\n",
       " 0.0004933803872095716,\n",
       " -0.0007521284128519518,\n",
       " -0.00039462410044249774,\n",
       " 0.0010991680895523909,\n",
       " 0.00011502591368978132,\n",
       " 0.003274226510643463,\n",
       " 0.00044500798690561005,\n",
       " 0.0008857713978884241,\n",
       " -0.002197551613286705,\n",
       " 0.0006242478794745016,\n",
       " 0.0006106325691753456,\n",
       " -0.0033401176280459383,\n",
       " 0.00042460463323377995,\n",
       " -0.00017423472077751634,\n",
       " 0.0018837522877694357,\n",
       " 0.00047283378229791284,\n",
       " -0.002204646623601869,\n",
       " 0.001085194651153712,\n",
       " -0.001846603413671169,\n",
       " -0.0008625004613623116,\n",
       " -0.0003599215823385654,\n",
       " 0.00017007209744894503,\n",
       " 0.001780499124780871,\n",
       " 0.0036111023602899556,\n",
       " 0.00119563661991208,\n",
       " -0.000889939137332707,\n",
       " 0.00018387158791356717,\n",
       " -0.0007177772013599593,\n",
       " -0.0018810893495434522,\n",
       " 0.0020557078737419576,\n",
       " -0.00020176889757446415,\n",
       " 0.0025446100490780638,\n",
       " -0.0007175077525993501,\n",
       " 0.0016154748334208657,\n",
       " -0.0008968789588047338,\n",
       " -0.0018121532906088395,\n",
       " -1.590297196364665e-05,\n",
       " 0.0008996049957911145,\n",
       " -0.00012574635518419752,\n",
       " -0.00038068306410994623,\n",
       " 0.0012363239512225566,\n",
       " -0.0010551407873706092,\n",
       " 0.0005074152189967485,\n",
       " 0.0013331284398470367,\n",
       " -0.0003047952460999842,\n",
       " 0.0015396842216093415,\n",
       " -0.0029411807368045356,\n",
       " -0.0001464174522447237,\n",
       " 0.0012367451780825045,\n",
       " 6.674560346857372e-05,\n",
       " -0.0006628179915678378,\n",
       " 0.0028198529054772187,\n",
       " -0.0016606300496304766,\n",
       " -0.00018114043481148867,\n",
       " -0.0009931650143708282,\n",
       " 0.0003350895673213533,\n",
       " 0.0003216089814025297,\n",
       " -0.0020877849718017732,\n",
       " -0.0006904971249765135,\n",
       " -0.0008487606589142743,\n",
       " -0.00017418185424854238,\n",
       " -0.002280466226735736,\n",
       " -0.0009451012863812558,\n",
       " 0.0006517752347838385,\n",
       " 0.0002870463037946136,\n",
       " 0.000796222224537943,\n",
       " 4.6176828722183094e-05,\n",
       " 0.0013537040360810382,\n",
       " -0.001695494578065157,\n",
       " -0.0009312233488091154,\n",
       " 0.0012506282317703427,\n",
       " -0.0003394363708154047,\n",
       " 0.002083598473266557,\n",
       " 0.0005897585328583921,\n",
       " 0.0031153865610026032,\n",
       " 0.0018288647035972216,\n",
       " -0.0010964608116569574,\n",
       " 0.0009202573337607212,\n",
       " -0.00020186439840101655,\n",
       " 0.00030789305416112356,\n",
       " 2.5222639925798207e-05,\n",
       " 2.5737662240399306e-05,\n",
       " -5.708486112587785e-05,\n",
       " 3.898972832427905e-05,\n",
       " -0.00022238883347794336,\n",
       " 0.0002868570075134219,\n",
       " 0.001133454496912073,\n",
       " -0.00014665790968300396,\n",
       " -0.0018742211536913606,\n",
       " 0.0009133703788176822,\n",
       " 0.0008997653007499634,\n",
       " -9.15912614610076e-05,\n",
       " -0.0008416349519048683,\n",
       " 0.0010096751934746961,\n",
       " 0.000204104404395139,\n",
       " -0.001007094113100071,\n",
       " -0.0006628793849563358,\n",
       " -2.2609157485017906e-05,\n",
       " 0.00083088381371621,\n",
       " 0.001346791500559455,\n",
       " -0.00011906063412565893,\n",
       " -0.00027040481105422565,\n",
       " 0.0016221128040661142,\n",
       " 0.0020008509862639856,\n",
       " 0.00012150187400429557,\n",
       " -0.000366829001744437,\n",
       " -0.0001396601055662916,\n",
       " 0.0007068674635843653,\n",
       " 0.000768916567575953,\n",
       " -0.0001533368092539178,\n",
       " -0.0001190930361918141,\n",
       " -0.0002567485718294321,\n",
       " 0.0007619119419716297,\n",
       " 0.001732368887287103,\n",
       " -0.00011206453538084582,\n",
       " 0.001752634105834816,\n",
       " -0.0008485031477569738,\n",
       " 3.231423949716372e-05,\n",
       " 0.0005412974532155029,\n",
       " 0.001401847916550028,\n",
       " -0.0017846941501755975,\n",
       " -0.0001192567518944615,\n",
       " 0.0017530757971575966,\n",
       " -0.0008006372429081171,\n",
       " 4.652159807508327e-06,\n",
       " -0.0004907072167521648,\n",
       " 0.0012297337309905565,\n",
       " -0.00017417844350474387,\n",
       " 0.0011128771953061722,\n",
       " -0.0007933853383779166,\n",
       " -0.00073857790668512,\n",
       " -0.002424877403679887,\n",
       " -0.0017503804568654718,\n",
       " -0.001468151733952941,\n",
       " -0.0003118408006299589,\n",
       " -0.0020326756892822123,\n",
       " 0.0032257756632319834,\n",
       " -0.00014667155265822573,\n",
       " 0.0010852458123107867,\n",
       " -0.0013718281602049937,\n",
       " 0.0016085452441802484,\n",
       " -0.00040806887355136767,\n",
       " 0.00048650025375411576,\n",
       " 0.00030760314093766783,\n",
       " -0.0011311326330666477,\n",
       " -0.0004149848198167494,\n",
       " 0.0005070144565996332,\n",
       " -0.001653869292208232,\n",
       " 0.0014159953028828054,\n",
       " -0.0005527375616528329,\n",
       " -0.001247767470403685,\n",
       " 0.0009477829836981588,\n",
       " 0.00028690475792668424,\n",
       " -0.0014405425207922734,\n",
       " -0.0027275759897684576,\n",
       " -0.0009934429899909614,\n",
       " 0.00025930918774123846,\n",
       " 0.0005348436627357345,\n",
       " 0.0016291549478523043,\n",
       " -5.7125790051557046e-05,\n",
       " 0.0018424561386897187,\n",
       " 0.0016152036792883434,\n",
       " 0.0013950564624335415,\n",
       " -0.00020158983352469573,\n",
       " 0.000672587877712294,\n",
       " 0.0003555321445469495,\n",
       " 5.003466419462033e-06,\n",
       " -0.001584991215918291,\n",
       " -5.0382086348332855e-05,\n",
       " -0.0007385233347842329,\n",
       " 0.0017940871491295834,\n",
       " -0.001337292768547521,\n",
       " 0.0031572216076035664,\n",
       " -0.0009311943574867726,\n",
       " 0.0004385252051034849,\n",
       " 0.0004109586262403958,\n",
       " 0.001704473171646792,\n",
       " -2.3076429386328923e-05,\n",
       " 0.0007824704844865971,\n",
       " 0.0020625573105031436,\n",
       " 0.00025957181501425064,\n",
       " -0.0012130905328782832,\n",
       " 0.00041749597994339416,\n",
       " 0.0010234405765012777,\n",
       " -0.0005525312116526071,\n",
       " -0.0022046176322795263,\n",
       " 0.00010141230876255236,\n",
       " 0.00010089728644793738,\n",
       " -0.0008144947160174248,\n",
       " -0.0003667778405873623,\n",
       " 0.0007343726490589703,\n",
       " -0.0016333073389494523,\n",
       " 0.0006448132434770659,\n",
       " -0.0005253210555171556,\n",
       " -0.0005182942600781004,\n",
       " -0.0019912601641693117,\n",
       " 1.1696008965611515e-05,\n",
       " 0.0005214926850815038,\n",
       " -0.0018743490565840543,\n",
       " -0.0016399725955451583,\n",
       " 0.00031461970414532747,\n",
       " -0.0017984100774169898,\n",
       " -0.0011378848636293681,\n",
       " -0.0011513518065729839,\n",
       " 6.670808528670691e-05,\n",
       " -0.0018190948174527655,\n",
       " 0.0019388206413633313,\n",
       " -0.002968581894593092,\n",
       " 0.0009959234534233502,\n",
       " 0.0028337035570989155,\n",
       " -0.00029104521142052364,\n",
       " 0.00023888025349087794,\n",
       " 0.0009132032523712225,\n",
       " 0.00028692351701761765,\n",
       " -0.001509485401214511,\n",
       " -0.002046157980572949,\n",
       " -0.0010756004183152257,\n",
       " 0.0009062225019735443,\n",
       " 0.001016645711640965,\n",
       " 0.0011474211138231688,\n",
       " 0.0021176887628574365,\n",
       " -2.200687697476167e-06,\n",
       " 0.0029782528691671972,\n",
       " 0.00011491335914420864,\n",
       " 0.0019526985789354717,\n",
       " -0.001736345625078281,\n",
       " -0.0008212333036049374,\n",
       " -0.0010414282708730155,\n",
       " -0.0007176475930953663,\n",
       " 0.00025228409767408255,\n",
       " -0.0022044129876511998,\n",
       " -0.0006148804610990599,\n",
       " -0.0009655199884002208,\n",
       " -0.0006834907940002771,\n",
       " -0.002589756738428192,\n",
       " 0.0012300577516520528,\n",
       " 0.0017599388768940044,\n",
       " 0.0004520859435017399,\n",
       " 0.0005210526991306225,\n",
       " 0.0010030116422509033,\n",
       " 0.0010301876909483143,\n",
       " -0.0011516417197964396,\n",
       " 0.0010233075574928585,\n",
       " 0.0003694066713752775,\n",
       " -5.0168914860510005e-05,\n",
       " 0.002007611743686244,\n",
       " 0.0008168558034166301,\n",
       " -0.0017777884361416252,\n",
       " -0.0017915487030524813,\n",
       " -0.00048376568990823876,\n",
       " -0.000284490803998505,\n",
       " -0.0009035237509376071,\n",
       " -0.0002497337139936995,\n",
       " 0.0010580049594810792,\n",
       " -0.0018675269057733118,\n",
       " -0.0014477910145786754,\n",
       " 0.0009409096717303417,\n",
       " -0.0003736750277618245,\n",
       " -0.0015234162053156391,\n",
       " 0.0002661381600395918,\n",
       " 0.001236656498743563,\n",
       " 0.00021130344239635168,\n",
       " -0.0009518347578530706,\n",
       " 0.0004316928220613331,\n",
       " -0.0008350566692762046,\n",
       " -0.0035812156229532988,\n",
       " -0.0010552703956352022,\n",
       " -0.0004012927677820022,\n",
       " 0.0011954882525565536,\n",
       " -0.000656093046955547,\n",
       " 0.0008997090234771632,\n",
       " 0.0017529240190582718,\n",
       " 0.0008443030062465495,\n",
       " -0.0005319419724433977,\n",
       " 0.0012297678384286248,\n",
       " -0.00022246045909783685,\n",
       " -0.0011240478549828792,\n",
       " 0.0002734531633302034,\n",
       " 0.001223010491750165,\n",
       " -0.0016399981761237026,\n",
       " -0.002335336757188916,\n",
       " 0.00034204644251240035,\n",
       " 8.736383400012593e-05,\n",
       " 5.29904526734154e-05,\n",
       " 0.0008854490825988409,\n",
       " -0.0006765850799663048,\n",
       " 0.0007686334758401081,\n",
       " -0.000545758516627054,\n",
       " 0.0011815830290339557,\n",
       " -0.0029963036622993183,\n",
       " -0.0008761481737276089,\n",
       " -0.0007522119760751816,\n",
       " 0.0016908885580419059,\n",
       " -0.0006216190486865725,\n",
       " 0.00019044645979843233,\n",
       " 0.00010095185834882447,\n",
       " -0.0006283167073484197,\n",
       " 0.0011954933686722513,\n",
       " -1.602064262493097e-05,\n",
       " -0.0007660097611679045,\n",
       " -0.0014821132347483251,\n",
       " 0.0007825301725031958,\n",
       " 0.0009891763389763275,\n",
       " -0.0014199805675335075,\n",
       " 0.0002870616521417346,\n",
       " -0.0005525823728096818,\n",
       " 0.0016085435388083352,\n",
       " 0.0004314779452015971,\n",
       " 0.0005138962954269605,\n",
       " -0.0011445688793160075,\n",
       " -0.0011654770230710015,\n",
       " -0.0009724342292937033,\n",
       " 0.000927036850273899,\n",
       " -0.00033244368281440395,\n",
       " 0.0027921925311594625,\n",
       " 0.0010232785661705157,\n",
       " 0.0007829104704374784,\n",
       " -0.0005527853120661091,\n",
       " -0.000325449289441504,\n",
       " 0.0017803626950286533,\n",
       " -0.0013168655396690598,\n",
       " -0.00022945996858646234,\n",
       " 0.00013566290331226694,\n",
       " -0.00040129106241008905,\n",
       " -0.0013648388829477914,\n",
       " -0.0008212128391421047,\n",
       " 4.588009401111648e-05,\n",
       " 0.0005140583057577086,\n",
       " -0.0015853442279021301,\n",
       " -0.0005388562133368663,\n",
       " -0.0012340344894432587,\n",
       " -0.0014267447356995505,\n",
       " -0.0003184276101181466,\n",
       " -0.00016067057163546283,\n",
       " -0.0004978243969020607,\n",
       " -0.00034637278154363293,\n",
       " 0.0006861895450362143,\n",
       " 0.0023382589119440994,\n",
       " 0.0009546665278973993,\n",
       " -0.000607763280949164,\n",
       " -0.0017642328138590818,\n",
       " 0.000803378628241605,\n",
       " -0.0012202912762514229,\n",
       " 0.0008651395243816501,\n",
       " 0.0003143349070375695,\n",
       " 0.0005763188758652338,\n",
       " -0.0001536216063616619,\n",
       " 0.001401871791756673,\n",
       " -0.00016713288897474143,\n",
       " -0.001261449290207009,\n",
       " -0.0009516949173570544,\n",
       " 0.0002249784407120925,\n",
       " -0.0024112672094964566,\n",
       " -0.0006557263919964723,\n",
       " 0.000376175955657046,\n",
       " -0.0006078656032633134,\n",
       " 0.00012176791202110626,\n",
       " 0.0011061283754872503,\n",
       " 0.000782593271263593,\n",
       " 0.001388309347986505,\n",
       " 0.0002593688757578233,\n",
       " -0.0007733895685908126,\n",
       " -0.0005046738336632606,\n",
       " -0.0011790906279982444,\n",
       " -0.0001675080707933263,\n",
       " 0.0005347106437273291,\n",
       " -0.0006558696432363148,\n",
       " -0.0006765867853382179,\n",
       " 0.0011682678641896788,\n",
       " 0.0011128754899342869,\n",
       " 0.0004934792987799225,\n",
       " 0.00027268745134591266,\n",
       " -0.0009242101963452681,\n",
       " -0.0005593328980005308,\n",
       " 0.0006174223179199329,\n",
       " -0.0001329164018630674,\n",
       " 0.002936879978351861,\n",
       " -0.002252589270186345,\n",
       " -0.00044272534661392304,\n",
       " -0.002121738831640449,\n",
       " -0.0006558969291867445,\n",
       " 0.0012712242924671768,\n",
       " 0.0005692443300128885,\n",
       " 0.0008784580999697256,\n",
       " -0.0019359803444594925,\n",
       " 0.0006861759020609925,\n",
       " -0.0008074252862808051,\n",
       " 0.0006722894376293281,\n",
       " -0.0013236416454384253,\n",
       " -0.0013786162035776678,\n",
       " 0.00010782858106045401,\n",
       " 0.0003697682102186406,\n",
       " 0.0002525450195751955,\n",
       " 4.873858154855193e-06,\n",
       " 0.0017118427468382769,\n",
       " -0.0019291598990206493,\n",
       " -0.0015643746907586381,\n",
       " -0.0009036721182931334,\n",
       " 0.0013470387794853461,\n",
       " -0.0016196937340222234,\n",
       " -0.0006904766605136947,\n",
       " 0.0017322648596010265,\n",
       " -0.00017431487325694772,\n",
       " 0.0011609937898247463,\n",
       " -4.333482644643116e-05,\n",
       " 0.0010717089491191628,\n",
       " 0.0004247240092669635,\n",
       " 0.0010093102438875345,\n",
       " -1.599847279019906e-05,\n",
       " -0.0006972954005806248,\n",
       " -0.00016732218525593312,\n",
       " 0.0012434718280666807,\n",
       " 0.0010166491223847773,\n",
       " 0.0012230855281138847,\n",
       " -0.00034591744724563056,\n",
       " 0.00032829981857676604,\n",
       " -0.00045631166559072234,\n",
       " -0.0008626437126021402,\n",
       " 0.0002663428046679045,\n",
       " 0.0006724241620096327,\n",
       " 0.0013811017831257683,\n",
       " 3.233640933190951e-05,\n",
       " 0.00131266028204291,\n",
       " 0.0006176337840358842,\n",
       " -0.0003119073101341685,\n",
       " 0.0018971748910435737,\n",
       " -0.0014199703353020843,\n",
       " -0.001482056957475525,\n",
       " 0.0002664229571473359,\n",
       " -0.0004220030883962944,\n",
       " -0.00016738528401633035,\n",
       " -0.0014267805485095042,\n",
       " -0.0013510308656236453,\n",
       " 0.0020487748737575556,\n",
       " -0.0008143361164304752,\n",
       " -0.00014022117292225578,\n",
       " 0.0003972290560237818,\n",
       " -0.0014750881446811692,\n",
       " -6.410995119303375e-05,\n",
       " -0.00020175525459924237,\n",
       " 0.0012780276841869859,\n",
       " 0.0016634328283524624,\n",
       " -0.0007935609916838726,\n",
       " 0.0005896630320318536,\n",
       " 0.0006516780285853868,\n",
       " 0.0019457928649014994,\n",
       " 0.0023790042258992616,\n",
       " 0.00011495940418557171,\n",
       " 0.0003905365134776323,\n",
       " 0.0003349343784782022,\n",
       " -0.0007385744959413076,\n",
       " -0.00016013849560184146,\n",
       " 0.0011611762646183271,\n",
       " -0.0014889166264681203,\n",
       " 0.0005279481809331854,\n",
       " -0.0008970068616974414,\n",
       " 0.000892658352831463,\n",
       " -0.001192840662677705,\n",
       " 0.0008788793268296735,\n",
       " -1.5640344690634467e-05,\n",
       " 0.0009063998606513995,\n",
       " -0.0016056725452102544,\n",
       " -0.00011894296346437461,\n",
       " 1.1840965577325502e-05,\n",
       " 0.0016773380518750602,\n",
       " 0.0003215834008239854,\n",
       " -0.0001056380308515209,\n",
       " 4.838045344915387e-06,\n",
       " -0.0014131737650698861,\n",
       " -0.0009175551719809855,\n",
       " -0.0006353776102255293,\n",
       " 0.0026064817943917823,\n",
       " -0.000580027870267702,\n",
       " 0.00012889873514622396,\n",
       " 6.687180098936818e-05,\n",
       " 0.0006377762158066014,\n",
       " -0.002569222071119856,\n",
       " -0.00011229134984389044,\n",
       " -0.0001671721125285075,\n",
       " 0.0013466209633691967,\n",
       " 0.0015809871921766555,\n",
       " -0.00043601063423304165,\n",
       " 0.00023871824316011592,\n",
       " 0.0009063930391638025,\n",
       " -0.0006077087090482769,\n",
       " -0.0010828335637544928,\n",
       " 0.0003350264685609561,\n",
       " -0.0007937724577998101,\n",
       " -0.00020146193063200202,\n",
       " 0.0011816597707695747,\n",
       " -0.000511265759267146,\n",
       " 0.0020144168407779522,\n",
       " 0.00157421108640729,\n",
       " 0.0007273509697356129,\n",
       " -0.001943146980394564,\n",
       " 0.0020352073138716897,\n",
       " -0.0002911458283627877,\n",
       " -2.202393069375419e-06,\n",
       " 0.0017461325649417714,\n",
       " -0.0010962612831443563,\n",
       " 0.0002868928203233756,\n",
       " 0.0005142578342703236,\n",
       " 0.0015946809495833159,\n",
       " -0.0024590427296344863,\n",
       " -0.0002979560415702076,\n",
       " -0.0011312161962898776,\n",
       " -5.02882908936797e-05,\n",
       " 0.0006106257476877347,\n",
       " -0.0026657554056118277,\n",
       " -0.001075625998893756,\n",
       " 0.0005069598846987461,\n",
       " 0.00022501936963775782,\n",
       " 0.00010117185132427209,\n",
       " 0.0008307115711540525,\n",
       " 0.0009682187394361441,\n",
       " -9.143919913315313e-06,\n",
       " -0.0002225286739739457,\n",
       " -0.0012478646766021229,\n",
       " -0.00017426371209985914,\n",
       " 0.001677274953114663,\n",
       " -0.002941352979366721,\n",
       " -0.0013097756454695936,\n",
       " 0.0007895006906694646,\n",
       " -0.0001328754729374021,\n",
       " 0.0004727706835375156,\n",
       " 0.0001495800644381734,\n",
       " 0.0010855578953689604,\n",
       " -5.740717641548876e-05,\n",
       " -0.0011996713403479575,\n",
       " -9.050124458662157e-06,\n",
       " -0.0017091422904304404,\n",
       " 0.00020451880976747605,\n",
       " -0.00020835911780645033,\n",
       " 0.0011130801345625996,\n",
       " -0.0008213953139356994,\n",
       " 0.0006314093992938613,\n",
       " 0.001105949311437468,\n",
       " 0.0013399557067734907,\n",
       " 0.00164961628416882,\n",
       " -0.0024176630173315394,\n",
       " 0.0019456768996121282,\n",
       " 0.0010991373928581488,\n",
       " -0.00030485834486038144,\n",
       " -4.337746074400961e-05,\n",
       " -0.0018676872107321607,\n",
       " -0.0014544647980338915,\n",
       " -0.0007388047211481646,\n",
       " -0.0019083455507202807,\n",
       " 0.0025239628272241688,\n",
       " 0.0006036876315876211,\n",
       " 0.0008926737011785979,\n",
       " -0.0009107637178644989,\n",
       " 0.0020833682480597,\n",
       " 0.0012503434346626124,\n",
       " 0.002888539980114055,\n",
       " 0.000975489403057278,\n",
       " 0.002014601020943446,\n",
       " 0.0009339340374483474,\n",
       " -2.2576755418862726e-05,\n",
       " 0.00012859517894754646,\n",
       " -0.00027044232923609246,\n",
       " -4.345931859532637e-05,\n",
       " 0.0005275508292798686,\n",
       " -0.0005872013276903842,\n",
       " -0.0011650404478639326,\n",
       " 0.00067221951738132,\n",
       " -0.0009173897509064388,\n",
       " -0.0006010332202211616,\n",
       " 0.0007342754428605325,\n",
       " 0.0002456529485164449,\n",
       " 0.000644867815377953,\n",
       " 0.001037132628536025,\n",
       " -0.001130851246702702,\n",
       " -0.00031183227377044875,\n",
       " -0.0009381870454877733,\n",
       " -0.0003390867695753641,\n",
       " -0.0010139930056464186,\n",
       " 0.0002112966209087408,\n",
       " 0.0005969234634215642,\n",
       " 0.00026666682532941466,\n",
       " -0.0011310456590996054,\n",
       " 0.001739286538924384,\n",
       " -0.00035301075218888145,\n",
       " -0.0018398170756703802,\n",
       " 3.231253412526447e-05,\n",
       " 0.0013539137968250625,\n",
       " 0.0005623386159789162,\n",
       " 0.0026823320942198914,\n",
       " 5.3166105979385314e-05,\n",
       " -2.1273567056556697e-06,\n",
       " 0.0010783725003429695,\n",
       " -0.0021564498766038914,\n",
       " 0.00011465243724310958,\n",
       " -0.0005940882826334232,\n",
       " 0.0007894631724875978,\n",
       " -0.0008419572671944653,\n",
       " -0.0019013630949506893,\n",
       " -0.0014408750683132937,\n",
       " 0.0008926174239058116,\n",
       " 8.061330880930473e-05,\n",
       " 0.00011504637815261398,\n",
       " 0.00044531836459188456,\n",
       " -0.0016813898260299581,\n",
       " -0.0018739465888150258,\n",
       " 0.001120101813885943,\n",
       " -0.0001467431782781331,\n",
       " -0.002273309823032074,\n",
       " 0.00025260470759178033,\n",
       " 0.002806048298896885,\n",
       " 0.0007963245468521063,\n",
       " -0.00013265889070578074,\n",
       " -0.0012273624113599418,\n",
       " -0.0016329782021722444,\n",
       " -0.0002018149426158411,\n",
       " -9.860270855294173e-05,\n",
       " -0.0011789780734526717,\n",
       " -0.0006146570573798138,\n",
       " -0.00017394651292597374,\n",
       " -0.0005594403364303918,\n",
       " -0.0007867917074021319,\n",
       " -0.001007094113100071,\n",
       " 0.0015330036166665145,\n",
       " -0.000959032090482384,\n",
       " -0.00022921268966057118,\n",
       " -1.6080330641515816e-05,\n",
       " 0.000445060853434584,\n",
       " 0.0008239286438970622,\n",
       " -0.0013993401671672095,\n",
       " -0.0007456473364217397,\n",
       " 0.001877020521669534,\n",
       " 0.00011493041286322891,\n",
       " 0.0008994327532289431,\n",
       " -0.0013305234842657665,\n",
       " 0.0005966216125947998,\n",
       " 0.00044529960550096503,\n",
       " -0.0020597971660787223,\n",
       " 0.00014244412519735794,\n",
       " 0.0019043278840034233,\n",
       " 0.0005691317754673159,\n",
       " -0.0010824481497044985,\n",
       " 0.0001974442639151447,\n",
       " -0.002080848561073559,\n",
       " 0.0012162036892865574,\n",
       " 0.0019524427731500843,\n",
       " 0.0009339459750516838,\n",
       " 0.0006035170943973628,\n",
       " 0.0016635863118237004,\n",
       " 0.0010302252091301672,\n",
       " 1.1602213510958359e-05,\n",
       " -0.00198435274476344,\n",
       " -0.0007525701041747324,\n",
       " -0.000772838733466244,\n",
       " -0.0003392231993275818,\n",
       " 0.0011336830167470308,\n",
       " 0.0018629856898823433,\n",
       " -0.0007660097611679045,\n",
       " 0.0019181495443027913,\n",
       " 0.0006719568901083217,\n",
       " -0.0005389363658162977,\n",
       " 0.0007275709627110605,\n",
       " -0.0012754005587709838,\n",
       " 0.000603479576215496,\n",
       " -0.0005528739914050368,\n",
       " 0.0018563357816337583,\n",
       " 0.0003970875101558663,\n",
       " -0.0006007978788986068,\n",
       " -0.001956839032429325,\n",
       " 0.0003557436106628731,\n",
       " -0.00014654535513743128,\n",
       " -0.0009796281511792043,\n",
       " -7.79060309138574e-05,\n",
       " -0.0007384482984205132,\n",
       " -0.0003666874558765215,\n",
       " 0.0010715759301107575,\n",
       " 0.0011335244171600811,\n",
       " -0.0007730689586731149,\n",
       " 0.00043145918611067757,\n",
       " -0.0006007160210472762,\n",
       " -0.0007318239707504726,\n",
       " -0.001358130992054521,\n",
       " -0.0006766771700490587,\n",
       " 0.0009682767220808297,\n",
       " 0.0004175983022575436,\n",
       " -0.0005388681509402027,\n",
       " 0.00028006214265310914,\n",
       " -0.0010757760716211956,\n",
       " -0.00016032097039542226,\n",
       " 0.0018841803361170084,\n",
       " -0.0008557414093119664,\n",
       " 0.0005760084981789593,\n",
       " -9.147359079973716e-05,\n",
       " 0.0010718539057308907,\n",
       " 0.00023896893282980558,\n",
       " -0.000972408648715159,\n",
       " 0.0005622465258961762,\n",
       " -0.0010619748757846603,\n",
       " 0.0019249188285845459,\n",
       " -0.0017711487601244635,\n",
       " 0.000473087882711401,\n",
       " 5.297851507009288e-05,\n",
       " 0.002014827835406491,\n",
       " 0.0009683688121635697,\n",
       " -0.0011103387492290978,\n",
       " -0.00013281237417701874,\n",
       " -0.0006765936068258288,\n",
       " -0.0011101903818735714,\n",
       " 0.0007482011308459352,\n",
       " 0.00036953969038368284,\n",
       " 0.001167532848899644,\n",
       " 0.0007273543804794252,\n",
       " -0.0016126754654426784,\n",
       " 0.0017049216844571835,\n",
       " 0.00042456882042382627,\n",
       " -0.0009933133817263684,\n",
       " -0.0014063328551682103,\n",
       " 0.00034894704043066105,\n",
       " -8.927337681666203e-06,\n",
       " -0.001261372548471404,\n",
       " -9.161002055194101e-05,\n",
       " -0.0006625707126419467,\n",
       " 0.0012023240463425178,\n",
       " -0.0009382228582977409,\n",
       " 0.0003625180110603393,\n",
       " 0.0019801474871372904,\n",
       " 0.0016841908993800447,\n",
       " 0.0006722502140755621,\n",
       " 0.0006723013752326507,\n",
       " 5.952951174832688e-05,\n",
       " 0.00027327921539613276,\n",
       " -0.0009381751078844647,\n",
       " 0.0013122748679929297,\n",
       " 0.001484339597767212,\n",
       " 0.0008652469628115111,\n",
       " 0.0014019741140708364,\n",
       " 0.0009407868849533457,\n",
       " -0.0017777048729183953,\n",
       " 0.001326418843581867,\n",
       " 0.0005692153386905457,\n",
       " 0.0001702000003416526,\n",
       " 0.0004933462797715032,\n",
       " 0.0016291003759514172,\n",
       " -0.001887899562750886,\n",
       " -0.0005321312687245894,\n",
       " -0.0002635246775987976,\n",
       " -0.0004633026482198238,\n",
       " 0.001463885082938307,\n",
       " -0.00013293516095400082,\n",
       " -0.00022245363761022596,\n",
       " 0.0008376309281632466,\n",
       " 0.000858450392579313,\n",
       " -4.347466694246127e-05,\n",
       " 5.328889275638127e-05,\n",
       " 0.00017011302637461034,\n",
       " -0.00010564314696721866,\n",
       " 0.00064491386041933,\n",
       " 0.001629037277191006,\n",
       " 0.0002526507526331573,\n",
       " 0.0023104876884526837,\n",
       " 0.0007894478241404768,\n",
       " 0.0008787514239369798,\n",
       " 0.0004248621443910805,\n",
       " 0.0009340841101758007,\n",
       " -0.0011791400837834337,\n",
       " 3.941948204375101e-05,\n",
       " -0.0015437070044418966,\n",
       " -0.0016952063702136144,\n",
       " 0.0014155826028823676,\n",
       " -0.0019428059060140335,\n",
       " 0.002021409528778953,\n",
       " -7.779347636828471e-05,\n",
       " 0.00014257202809005165,\n",
       " 0.0025032439797503386,\n",
       " 0.0025791556729669596,\n",
       " -0.0002703127209714856,\n",
       " 0.0007687187444352511,\n",
       " 0.001725642237302899,\n",
       " 0.0021729685825672557,\n",
       " -0.0012480300976766834,\n",
       " -0.0011651854044756604,\n",
       " -0.00040813708842747654,\n",
       " -0.0016539051050181858,\n",
       " -0.00041518093758555197,\n",
       " 0.00011521520997097301,\n",
       " -0.0001395611939959407,\n",
       " 3.219315809206702e-05,\n",
       " 0.0005555232866557847,\n",
       " -0.0023488565666615058,\n",
       " 0.0003902039659566259,\n",
       " -0.0007455467194794757,\n",
       " -0.0021356252960720995,\n",
       " -0.0004976675026870242,\n",
       " -0.001199696920926488,\n",
       " -2.286155252660682e-05,\n",
       " -0.001454277207124613,\n",
       " -0.0004082377053697406,\n",
       " 7.375363981670935e-05,\n",
       " -0.0023076525076645427,\n",
       " -0.001605999976615563,\n",
       " 0.00030770716862374425,\n",
       " 0.0001563084197942627,\n",
       " -0.0010481924390390723,\n",
       " -0.0030717429674989166,\n",
       " -0.0005181663571854067,\n",
       " 0.0006791252314152924,\n",
       " 4.604039896996537e-05,\n",
       " 0.0004385286158472973,\n",
       " 0.0006242802815406429,\n",
       " -0.0011998981548110021,\n",
       " -0.0012205863055905763,\n",
       " 0.002571919116783866,\n",
       " -8.449795651774283e-05,\n",
       " -0.0006424112271521953,\n",
       " 0.0013746394657864897,\n",
       " -0.001282297745945446,\n",
       " -2.2716595914878956e-05,\n",
       " -0.0002292979582557142,\n",
       " 0.0020283033052096167,\n",
       " 0.0022344310386243488,\n",
       " 0.00014935154460321565,\n",
       " -0.002714049358808257,\n",
       " 0.001195590574870703,\n",
       " -0.0002635621957806644,\n",
       " 0.00013563732273373652,\n",
       " -0.0021287383411290606,\n",
       " -0.0008828049034637908,\n",
       " 0.0020283169481848384,\n",
       " 0.0004662674372725578,\n",
       " 0.00035583740611751236,\n",
       " -0.00022233596694895552,\n",
       " -1.9704624906191626e-06,\n",
       " 0.0015673394798113721,\n",
       " -0.0006077615755772647,\n",
       " 0.0008790600962513689,\n",
       " 0.0010440178781071785,\n",
       " 0.0016979051212495377,\n",
       " -0.00020151309178907673,\n",
       " -0.0006284190296625691,\n",
       " -0.0014816323198717646,\n",
       " -0.000793549054080564,\n",
       " -0.001440793210461963,\n",
       " 0.00044530472161667667,\n",
       " 0.0012437924379843923,\n",
       " -0.00039451495664072356,\n",
       " -0.001343956319771314,\n",
       " 0.00022496309236497147,\n",
       " 0.0006036961584471312,\n",
       " -0.0008554890142703914,\n",
       " 0.000355765780497605,\n",
       " -0.0016677472297803864,\n",
       " -0.00033239593240112775,\n",
       " -0.0005113407956308658,\n",
       " -0.0011445995760102495,\n",
       " 0.0003696812362516122,\n",
       " -0.0006696060349405258,\n",
       " 0.0008790345156728246,\n",
       " -0.0008898351096466584,\n",
       " -0.0010758118844311493,\n",
       " -0.00011918683164645338,\n",
       " -0.0020669177569724306,\n",
       " -0.0019292707481943228,\n",
       " -0.00041511442808135623,\n",
       " -0.00020869337069936988,\n",
       " -0.0011790394668411697,\n",
       " 0.001629206109009379,\n",
       " 0.0013812365075060867,\n",
       " -0.002176749202589645,\n",
       " 0.0006861452053667505,\n",
       " 0.002083398944753942,\n",
       " 0.002771662979966852,\n",
       " -0.000710987452615372,\n",
       " 0.002007379813107474,\n",
       " 0.00040412112708253234,\n",
       " 0.0005621646680448456,\n",
       " -0.00029805324776865927,\n",
       " 0.0004179837163075517,\n",
       " 0.0017808043863514478,\n",
       " 0.0009341437981923856,\n",
       " -0.0008004360090236029,\n",
       " -5.73133809608356e-05,\n",
       " -0.0005730607628452317,\n",
       " 0.0014363185040752041,\n",
       " 0.0013607223046605832,\n",
       " -0.0012133838568455374,\n",
       " -0.001963736219603787,\n",
       " 0.0017596643120176697,\n",
       " 0.002028337412647657,\n",
       " 0.00034864689497579593,\n",
       " 0.0009063640478414597,\n",
       " -0.0005939672012283403,\n",
       " 0.0007206891238837193,\n",
       " -0.0006349580887374945,\n",
       " -0.0003601842096115776,\n",
       " -0.0005665472843488784,\n",
       " 0.0008306007219803652,\n",
       " 0.0011818115488689135,\n",
       " 0.0005555710370690609,\n",
       " -0.0011241433558094316,\n",
       " 6.674560346857372e-05,\n",
       " 0.0020143349829266355,\n",
       " 0.00041093475103376464,\n",
       " 0.00018382724824410335,\n",
       " 0.0006998202036824774,\n",
       " -0.002755267060780456,\n",
       " 0.00015617540078587122,\n",
       " -0.00036701659265372943,\n",
       " -0.0006144541181234003,\n",
       " 0.0014157412024693034,\n",
       " -0.0007799081632028915,\n",
       " 0.0009959285695390618,\n",
       " 0.0006587014132806296,\n",
       " 0.0004245909902585582,\n",
       " 0.0004657779955365149,\n",
       " -0.0002566428387714703,\n",
       " 0.00017686866768115705,\n",
       " -0.0004700497626668465,\n",
       " 0.0006725759401089715,\n",
       " -0.0005459563397677558,\n",
       " -0.0005873138822359569,\n",
       " 0.0010301416459069374,\n",
       " -0.0004909101560085921,\n",
       " 0.001271287391227588,\n",
       " 0.0004657080752885068,\n",
       " -0.0012066725552084684,\n",
       " -0.0004976026985547416,\n",
       " ...]"
      ]
     },
     "execution_count": 232,
     "metadata": {},
     "output_type": "execute_result"
    }
   ],
   "source": [
    "p_diffs"
   ]
  },
  {
   "cell_type": "markdown",
   "metadata": {},
   "source": [
    "It took 3 minutes to run the p_diffs"
   ]
  },
  {
   "cell_type": "markdown",
   "metadata": {},
   "source": [
    "<u>Converting p_diffs to numpy array:</u>"
   ]
  },
  {
   "cell_type": "code",
   "execution_count": 233,
   "metadata": {},
   "outputs": [],
   "source": [
    "p_diffs=np.array(p_diffs)"
   ]
  },
  {
   "cell_type": "markdown",
   "metadata": {},
   "source": [
    "i. Plot a histogram of the **p_diffs**.  Does this plot look like what you expected?  Use the matching problem in the classroom to assure you fully understand what was computed here."
   ]
  },
  {
   "cell_type": "markdown",
   "metadata": {},
   "source": [
    "<u>Plotting sample distribution of p_diffs:</u>"
   ]
  },
  {
   "cell_type": "code",
   "execution_count": 234,
   "metadata": {},
   "outputs": [
    {
     "data": {
      "image/png": "[encoded data removed]",
      "text/plain": [
       "<Figure size 432x288 with 1 Axes>"
      ]
     },
     "metadata": {
      "needs_background": "light"
     },
     "output_type": "display_data"
    }
   ],
   "source": [
    "plt.hist(p_diffs);\n",
    "plt.xlabel('p_diffs')\n",
    "plt.ylabel('Frequency')\n",
    "plt.title('Simulated difference of new_page & old_page converted under Null hypothesis');"
   ]
  },
  {
   "cell_type": "markdown",
   "metadata": {},
   "source": [
    "The plot is what I expected as it's normal distribution, also p_new and p_old has close/almost identical values. "
   ]
  },
  {
   "cell_type": "markdown",
   "metadata": {},
   "source": [
    "j. What proportion of the **p_diffs** are greater than the actual difference observed in **ab_data.csv**?"
   ]
  },
  {
   "cell_type": "markdown",
   "metadata": {},
   "source": [
    "Will dedicate df to control group (df_control) & treatment group (df_treatment). Will store the difference between the conversion mean of both groups in obs_diff."
   ]
  },
  {
   "cell_type": "code",
   "execution_count": 235,
   "metadata": {},
   "outputs": [
    {
     "data": {
      "text/plain": [
       "-0.0015782389853555567"
      ]
     },
     "execution_count": 235,
     "metadata": {},
     "output_type": "execute_result"
    }
   ],
   "source": [
    "df_control = df2[df2['group'] == \"control\"]\n",
    "df_treatment = df2[df2['group'] == \"treatment\"] \n",
    "obs_diff = df_treatment.converted.mean() - df_control.converted.mean()\n",
    "obs_diff"
   ]
  },
  {
   "cell_type": "markdown",
   "metadata": {},
   "source": [
    "The actual difference **obs_diff** is **-0.0015782389853555567**"
   ]
  },
  {
   "cell_type": "code",
   "execution_count": 236,
   "metadata": {},
   "outputs": [
    {
     "data": {
      "image/png": "[encoded data removed]",
      "text/plain": [
       "<Figure size 432x288 with 1 Axes>"
      ]
     },
     "metadata": {
      "needs_background": "light"
     },
     "output_type": "display_data"
    }
   ],
   "source": [
    "plt.hist(p_diffs);\n",
    "plt.xlabel('p_diffs');\n",
    "plt.ylabel('Frequency');\n",
    "plt.title('Simulated difference of new_page & old_page converted under Null hypothesis vs actual difference');\n",
    "plt.axvline(obs_diff, color='red');"
   ]
  },
  {
   "cell_type": "code",
   "execution_count": 237,
   "metadata": {},
   "outputs": [
    {
     "data": {
      "text/plain": [
       "0.9083"
      ]
     },
     "execution_count": 237,
     "metadata": {},
     "output_type": "execute_result"
    }
   ],
   "source": [
    "p_diffs = np.array(p_diffs)\n",
    "p_val = (p_diffs > obs_diff).mean()\n",
    "p_val"
   ]
  },
  {
   "cell_type": "markdown",
   "metadata": {},
   "source": [
    "p_val is 0.9083"
   ]
  },
  {
   "cell_type": "markdown",
   "metadata": {},
   "source": [
    "k. In words, explain what you just computed in part **j.**  What is this value called in scientific studies?  What does this value mean in terms of whether or not there is a difference between the new and old pages?"
   ]
  },
  {
   "cell_type": "markdown",
   "metadata": {},
   "source": [
    "0.9083 is the proportion of p_diffs \"**p_diffs**\", and is the greater than the actual difference \"**obs_diff**\" -0.15 observed in ab_data.csv. The calculated **p_val** above is 0.9083, greater than 0.05. Accordingly, There is no significant conversion rate between the new and old pages, and I will <u>continue with</u> **null hypothesis**. "
   ]
  },
  {
   "cell_type": "markdown",
   "metadata": {},
   "source": [
    "l. We could also use a built-in to achieve similar results.  Though using the built-in might be easier to code, the above portions are a walkthrough of the ideas that are critical to correctly thinking about statistical significance. Fill in the below to calculate the number of conversions for each page, as well as the number of individuals who received each page. Let `n_old` and `n_new` refer the the number of rows associated with the old page and new pages, respectively."
   ]
  },
  {
   "cell_type": "code",
   "execution_count": 245,
   "metadata": {},
   "outputs": [],
   "source": [
    "import statsmodels.api as sm\n",
    "\n",
    "convert_old = len(df2[(df2[\"landing_page\"] == \"old_page\")&(df2[\"converted\"] == 1)])\n",
    "convert_new =  len(df2[(df2[\"landing_page\"] == \"new_page\")&(df2[\"converted\"] == 1)])\n",
    "n_old = len(df2[df2[\"landing_page\"] == \"old_page\"])\n",
    "n_new = len(df2[df2[\"landing_page\"] == \"new_page\"])\n",
    "#\n",
    "#convert_old = len(df2[(df2[\"group\"] == \"control\")&(df2[\"converted\"] == 1)])\n",
    "#convert_new =  len(df2[(df2[\"group\"] == \"treatment\")&(df2[\"converted\"] == 1)])\n",
    "#n_old = len(df2[df2[\"group\"] == \"control\"])\n",
    "#n_new = len(df2[df2[\"group#\"] == \"treatment\"])"
   ]
  },
  {
   "cell_type": "markdown",
   "metadata": {},
   "source": [
    "For testing purposes I tested convert_old and convert_new, n_old and n_new using groups and landing page, and got the same value. "
   ]
  },
  {
   "cell_type": "markdown",
   "metadata": {},
   "source": [
    "m. Now use `stats.proportions_ztest` to compute your test statistic and p-value.  [Here](http://knowledgetack.com/python/statsmodels/proportions_ztest/) is a helpful link on using the built in."
   ]
  },
  {
   "cell_type": "code",
   "execution_count": 246,
   "metadata": {},
   "outputs": [
    {
     "data": {
      "text/plain": [
       "(-1.3109241984234394, 0.9050583127590245)"
      ]
     },
     "execution_count": 246,
     "metadata": {},
     "output_type": "execute_result"
    }
   ],
   "source": [
    "z_score, p_value = sm.stats.proportions_ztest([convert_new,convert_old], [n_new,n_old], alternative='larger')\n",
    "\n",
    "z_score, p_value"
   ]
  },
  {
   "cell_type": "markdown",
   "metadata": {},
   "source": [
    "z_test score **z_score** is -1.3109 vs p_value **0.905**,which is close the value calculated earlier p_val."
   ]
  },
  {
   "cell_type": "markdown",
   "metadata": {
    "collapsed": true
   },
   "source": [
    "**Note:**\n",
    "> The link shared [Here](http://knowledgetack.com/python/statsmodels/proportions_ztest/) is corrupt and throws error.\n",
    "> Instead I used [Here](https://medium.com/@wengsengh/a-b-testing-in-web-page-version-d033276466c3)"
   ]
  },
  {
   "cell_type": "markdown",
   "metadata": {},
   "source": [
    "n. What do the z-score and p-value you computed in the previous question mean for the conversion rates of the old and new pages?  Do they agree with the findings in parts **j.** and **k.**?"
   ]
  },
  {
   "cell_type": "markdown",
   "metadata": {},
   "source": [
    "**Z-score:**\n",
    ">- Z-score is the number of standard deviations a given data point lies from the mean. \n",
    ">- With 95% confidence interval for the standard normal distribution, then critical z-score values, is the interval (-1.96, +1.96). As the calculated z_score is -1.3 lies between the interval, it's standard deviation, and the p-value is larger than 0.05. p_value = 0.905. \n",
    "\n",
    "**P-value:**\n",
    ">- P-value is a conditional probability - that is it is the probability of getting the data observed or more extreme data if the null hypothesis is true.\n",
    ">- As  p_value = 0.905, there is a large probability that the null hypothesis was falsesly rejected. \n",
    ">- As we failed to reject the null hypothesis, the new_page will have less or equal conversion rate to the old_page. \n",
    "\n",
    "<u>**Based on the finding in j & k:**</u><br>\n",
    "The **null hypothesis** can not be rejected based on **z_score** and the **p_value** mean. Z-Score and P-Value confirms the previous findings. The new_page will not lead to more conversion rate. "
   ]
  },
  {
   "cell_type": "markdown",
   "metadata": {},
   "source": [
    "<a id='regression'></a>\n",
    "### Part III - A regression approach\n",
    "\n",
    "`1.` In this final part, you will see that the result you acheived in the previous A/B test can also be acheived by performing regression.<br><br>\n",
    "\n",
    "a. Since each row is either a conversion or no conversion, what type of regression should you be performing in this case?"
   ]
  },
  {
   "cell_type": "markdown",
   "metadata": {},
   "source": [
    "**Logistic regression**, as the dependent variable \"converted\" is a binary variable (1 vs 0)."
   ]
  },
  {
   "cell_type": "markdown",
   "metadata": {},
   "source": [
    "b. The goal is to use **statsmodels** to fit the regression model you specified in part **a.** to see if there is a significant difference in conversion based on which page a customer receives.  However, you first need to create a column for the intercept, and create a dummy variable column for which page each user received.  Add an **intercept** column, as well as an **ab_page** column, which is 1 when an individual receives the **treatment** and 0 if **control**."
   ]
  },
  {
   "cell_type": "code",
   "execution_count": 247,
   "metadata": {},
   "outputs": [
    {
     "data": {
      "text/html": [
       "<div>\n",
       "<style scoped>\n",
       "    .dataframe tbody tr th:only-of-type {\n",
       "        vertical-align: middle;\n",
       "    }\n",
       "\n",
       "    .dataframe tbody tr th {\n",
       "        vertical-align: top;\n",
       "    }\n",
       "\n",
       "    .dataframe thead th {\n",
       "        text-align: right;\n",
       "    }\n",
       "</style>\n",
       "<table border=\"1\" class=\"dataframe\">\n",
       "  <thead>\n",
       "    <tr style=\"text-align: right;\">\n",
       "      <th></th>\n",
       "      <th>user_id</th>\n",
       "      <th>timestamp</th>\n",
       "      <th>group</th>\n",
       "      <th>landing_page</th>\n",
       "      <th>converted</th>\n",
       "    </tr>\n",
       "  </thead>\n",
       "  <tbody>\n",
       "    <tr>\n",
       "      <th>0</th>\n",
       "      <td>851104</td>\n",
       "      <td>2017-01-21 22:11:48.556739</td>\n",
       "      <td>control</td>\n",
       "      <td>old_page</td>\n",
       "      <td>0</td>\n",
       "    </tr>\n",
       "    <tr>\n",
       "      <th>1</th>\n",
       "      <td>804228</td>\n",
       "      <td>2017-01-12 08:01:45.159739</td>\n",
       "      <td>control</td>\n",
       "      <td>old_page</td>\n",
       "      <td>0</td>\n",
       "    </tr>\n",
       "    <tr>\n",
       "      <th>2</th>\n",
       "      <td>661590</td>\n",
       "      <td>2017-01-11 16:55:06.154213</td>\n",
       "      <td>treatment</td>\n",
       "      <td>new_page</td>\n",
       "      <td>0</td>\n",
       "    </tr>\n",
       "    <tr>\n",
       "      <th>3</th>\n",
       "      <td>853541</td>\n",
       "      <td>2017-01-08 18:28:03.143765</td>\n",
       "      <td>treatment</td>\n",
       "      <td>new_page</td>\n",
       "      <td>0</td>\n",
       "    </tr>\n",
       "    <tr>\n",
       "      <th>4</th>\n",
       "      <td>864975</td>\n",
       "      <td>2017-01-21 01:52:26.210827</td>\n",
       "      <td>control</td>\n",
       "      <td>old_page</td>\n",
       "      <td>1</td>\n",
       "    </tr>\n",
       "  </tbody>\n",
       "</table>\n",
       "</div>"
      ],
      "text/plain": [
       "   user_id                   timestamp      group landing_page  converted\n",
       "0   851104  2017-01-21 22:11:48.556739    control     old_page          0\n",
       "1   804228  2017-01-12 08:01:45.159739    control     old_page          0\n",
       "2   661590  2017-01-11 16:55:06.154213  treatment     new_page          0\n",
       "3   853541  2017-01-08 18:28:03.143765  treatment     new_page          0\n",
       "4   864975  2017-01-21 01:52:26.210827    control     old_page          1"
      ]
     },
     "execution_count": 247,
     "metadata": {},
     "output_type": "execute_result"
    }
   ],
   "source": [
    "df2.head()"
   ]
  },
  {
   "cell_type": "code",
   "execution_count": 248,
   "metadata": {},
   "outputs": [],
   "source": [
    "df2['intercept'] = 1\n",
    "df2[['drop', 'ab_page']] = pd.get_dummies(df2['group'])\n",
    "df2.drop('drop', axis=1, inplace=True)\n",
    "\n"
   ]
  },
  {
   "cell_type": "code",
   "execution_count": 249,
   "metadata": {},
   "outputs": [
    {
     "data": {
      "text/html": [
       "<div>\n",
       "<style scoped>\n",
       "    .dataframe tbody tr th:only-of-type {\n",
       "        vertical-align: middle;\n",
       "    }\n",
       "\n",
       "    .dataframe tbody tr th {\n",
       "        vertical-align: top;\n",
       "    }\n",
       "\n",
       "    .dataframe thead th {\n",
       "        text-align: right;\n",
       "    }\n",
       "</style>\n",
       "<table border=\"1\" class=\"dataframe\">\n",
       "  <thead>\n",
       "    <tr style=\"text-align: right;\">\n",
       "      <th></th>\n",
       "      <th>user_id</th>\n",
       "      <th>timestamp</th>\n",
       "      <th>group</th>\n",
       "      <th>landing_page</th>\n",
       "      <th>converted</th>\n",
       "      <th>intercept</th>\n",
       "      <th>ab_page</th>\n",
       "    </tr>\n",
       "  </thead>\n",
       "  <tbody>\n",
       "    <tr>\n",
       "      <th>0</th>\n",
       "      <td>851104</td>\n",
       "      <td>2017-01-21 22:11:48.556739</td>\n",
       "      <td>control</td>\n",
       "      <td>old_page</td>\n",
       "      <td>0</td>\n",
       "      <td>1</td>\n",
       "      <td>0</td>\n",
       "    </tr>\n",
       "    <tr>\n",
       "      <th>1</th>\n",
       "      <td>804228</td>\n",
       "      <td>2017-01-12 08:01:45.159739</td>\n",
       "      <td>control</td>\n",
       "      <td>old_page</td>\n",
       "      <td>0</td>\n",
       "      <td>1</td>\n",
       "      <td>0</td>\n",
       "    </tr>\n",
       "    <tr>\n",
       "      <th>2</th>\n",
       "      <td>661590</td>\n",
       "      <td>2017-01-11 16:55:06.154213</td>\n",
       "      <td>treatment</td>\n",
       "      <td>new_page</td>\n",
       "      <td>0</td>\n",
       "      <td>1</td>\n",
       "      <td>1</td>\n",
       "    </tr>\n",
       "    <tr>\n",
       "      <th>3</th>\n",
       "      <td>853541</td>\n",
       "      <td>2017-01-08 18:28:03.143765</td>\n",
       "      <td>treatment</td>\n",
       "      <td>new_page</td>\n",
       "      <td>0</td>\n",
       "      <td>1</td>\n",
       "      <td>1</td>\n",
       "    </tr>\n",
       "    <tr>\n",
       "      <th>4</th>\n",
       "      <td>864975</td>\n",
       "      <td>2017-01-21 01:52:26.210827</td>\n",
       "      <td>control</td>\n",
       "      <td>old_page</td>\n",
       "      <td>1</td>\n",
       "      <td>1</td>\n",
       "      <td>0</td>\n",
       "    </tr>\n",
       "  </tbody>\n",
       "</table>\n",
       "</div>"
      ],
      "text/plain": [
       "   user_id                   timestamp      group landing_page  converted  \\\n",
       "0   851104  2017-01-21 22:11:48.556739    control     old_page          0   \n",
       "1   804228  2017-01-12 08:01:45.159739    control     old_page          0   \n",
       "2   661590  2017-01-11 16:55:06.154213  treatment     new_page          0   \n",
       "3   853541  2017-01-08 18:28:03.143765  treatment     new_page          0   \n",
       "4   864975  2017-01-21 01:52:26.210827    control     old_page          1   \n",
       "\n",
       "   intercept  ab_page  \n",
       "0          1        0  \n",
       "1          1        0  \n",
       "2          1        1  \n",
       "3          1        1  \n",
       "4          1        0  "
      ]
     },
     "execution_count": 249,
     "metadata": {},
     "output_type": "execute_result"
    }
   ],
   "source": [
    "df2.head()"
   ]
  },
  {
   "cell_type": "code",
   "execution_count": 261,
   "metadata": {},
   "outputs": [
    {
     "data": {
      "text/plain": [
       "145274"
      ]
     },
     "execution_count": 261,
     "metadata": {},
     "output_type": "execute_result"
    }
   ],
   "source": [
    "len(df2[df2['group']=='control'])"
   ]
  },
  {
   "cell_type": "code",
   "execution_count": 262,
   "metadata": {},
   "outputs": [
    {
     "data": {
      "text/plain": [
       "145310"
      ]
     },
     "execution_count": 262,
     "metadata": {},
     "output_type": "execute_result"
    }
   ],
   "source": [
    "len(df2[df2['group']=='treatment'])"
   ]
  },
  {
   "cell_type": "markdown",
   "metadata": {},
   "source": [
    "145274 users in control group, and 145310 in treatment group. "
   ]
  },
  {
   "cell_type": "code",
   "execution_count": 260,
   "metadata": {},
   "outputs": [
    {
     "data": {
      "text/html": [
       "<div>\n",
       "<style scoped>\n",
       "    .dataframe tbody tr th:only-of-type {\n",
       "        vertical-align: middle;\n",
       "    }\n",
       "\n",
       "    .dataframe tbody tr th {\n",
       "        vertical-align: top;\n",
       "    }\n",
       "\n",
       "    .dataframe thead th {\n",
       "        text-align: right;\n",
       "    }\n",
       "</style>\n",
       "<table border=\"1\" class=\"dataframe\">\n",
       "  <thead>\n",
       "    <tr style=\"text-align: right;\">\n",
       "      <th></th>\n",
       "      <th></th>\n",
       "      <th>Group/ab_page</th>\n",
       "    </tr>\n",
       "    <tr>\n",
       "      <th>group</th>\n",
       "      <th>ab_page</th>\n",
       "      <th></th>\n",
       "    </tr>\n",
       "  </thead>\n",
       "  <tbody>\n",
       "    <tr>\n",
       "      <th>control</th>\n",
       "      <th>0</th>\n",
       "      <td>145274</td>\n",
       "    </tr>\n",
       "    <tr>\n",
       "      <th>treatment</th>\n",
       "      <th>1</th>\n",
       "      <td>145310</td>\n",
       "    </tr>\n",
       "  </tbody>\n",
       "</table>\n",
       "</div>"
      ],
      "text/plain": [
       "                   Group/ab_page\n",
       "group     ab_page               \n",
       "control   0               145274\n",
       "treatment 1               145310"
      ]
     },
     "execution_count": 260,
     "metadata": {},
     "output_type": "execute_result"
    }
   ],
   "source": [
    "bucket_group=df2.groupby(['group','ab_page']).apply(lambda x: pd.Series({\"Group/ab_page\": ((x['ab_page']).count())}))    \n",
    "bucket_group"
   ]
  },
  {
   "cell_type": "markdown",
   "metadata": {},
   "source": [
    "\n",
    "confirmed above that ab_page column, has 1 when an individual receives the treatment and 0 if control is received."
   ]
  },
  {
   "cell_type": "markdown",
   "metadata": {},
   "source": [
    "c. Use **statsmodels** to import your regression model.  Instantiate the model, and fit the model using the two columns you created in part **b.** to predict whether or not an individual converts."
   ]
  },
  {
   "cell_type": "code",
   "execution_count": 263,
   "metadata": {},
   "outputs": [
    {
     "name": "stdout",
     "output_type": "stream",
     "text": [
      "Optimization terminated successfully.\n",
      "         Current function value: 0.366118\n",
      "         Iterations 6\n"
     ]
    }
   ],
   "source": [
    "from scipy import stats\n",
    "stats.chisqprob = lambda chisq, df2: stats.chi2.sf(chisq, df3)\n",
    "\n",
    "\n",
    "log = sm.Logit(df2['converted'],df2[['intercept','ab_page']])\n",
    "results = log.fit()\n"
   ]
  },
  {
   "cell_type": "markdown",
   "metadata": {},
   "source": [
    "d. Provide the summary of your model below, and use it as necessary to answer the following questions."
   ]
  },
  {
   "cell_type": "code",
   "execution_count": 264,
   "metadata": {},
   "outputs": [
    {
     "data": {
      "text/html": [
       "<table class=\"simpletable\">\n",
       "<caption>Logit Regression Results</caption>\n",
       "<tr>\n",
       "  <th>Dep. Variable:</th>       <td>converted</td>    <th>  No. Observations:  </th>   <td>290584</td>   \n",
       "</tr>\n",
       "<tr>\n",
       "  <th>Model:</th>                 <td>Logit</td>      <th>  Df Residuals:      </th>   <td>290582</td>   \n",
       "</tr>\n",
       "<tr>\n",
       "  <th>Method:</th>                 <td>MLE</td>       <th>  Df Model:          </th>   <td>     1</td>   \n",
       "</tr>\n",
       "<tr>\n",
       "  <th>Date:</th>            <td>Sun, 11 Jul 2021</td> <th>  Pseudo R-squ.:     </th>  <td>8.077e-06</td> \n",
       "</tr>\n",
       "<tr>\n",
       "  <th>Time:</th>                <td>23:36:05</td>     <th>  Log-Likelihood:    </th> <td>-1.0639e+05</td>\n",
       "</tr>\n",
       "<tr>\n",
       "  <th>converged:</th>             <td>True</td>       <th>  LL-Null:           </th> <td>-1.0639e+05</td>\n",
       "</tr>\n",
       "<tr>\n",
       "  <th>Covariance Type:</th>     <td>nonrobust</td>    <th>  LLR p-value:       </th>   <td>0.1899</td>   \n",
       "</tr>\n",
       "</table>\n",
       "<table class=\"simpletable\">\n",
       "<tr>\n",
       "      <td></td>         <th>coef</th>     <th>std err</th>      <th>z</th>      <th>P>|z|</th>  <th>[0.025</th>    <th>0.975]</th>  \n",
       "</tr>\n",
       "<tr>\n",
       "  <th>intercept</th> <td>   -1.9888</td> <td>    0.008</td> <td> -246.669</td> <td> 0.000</td> <td>   -2.005</td> <td>   -1.973</td>\n",
       "</tr>\n",
       "<tr>\n",
       "  <th>ab_page</th>   <td>   -0.0150</td> <td>    0.011</td> <td>   -1.311</td> <td> 0.190</td> <td>   -0.037</td> <td>    0.007</td>\n",
       "</tr>\n",
       "</table>"
      ],
      "text/plain": [
       "<class 'statsmodels.iolib.summary.Summary'>\n",
       "\"\"\"\n",
       "                           Logit Regression Results                           \n",
       "==============================================================================\n",
       "Dep. Variable:              converted   No. Observations:               290584\n",
       "Model:                          Logit   Df Residuals:                   290582\n",
       "Method:                           MLE   Df Model:                            1\n",
       "Date:                Sun, 11 Jul 2021   Pseudo R-squ.:               8.077e-06\n",
       "Time:                        23:36:05   Log-Likelihood:            -1.0639e+05\n",
       "converged:                       True   LL-Null:                   -1.0639e+05\n",
       "Covariance Type:            nonrobust   LLR p-value:                    0.1899\n",
       "==============================================================================\n",
       "                 coef    std err          z      P>|z|      [0.025      0.975]\n",
       "------------------------------------------------------------------------------\n",
       "intercept     -1.9888      0.008   -246.669      0.000      -2.005      -1.973\n",
       "ab_page       -0.0150      0.011     -1.311      0.190      -0.037       0.007\n",
       "==============================================================================\n",
       "\"\"\""
      ]
     },
     "execution_count": 264,
     "metadata": {},
     "output_type": "execute_result"
    }
   ],
   "source": [
    "results.summary()\n"
   ]
  },
  {
   "cell_type": "code",
   "execution_count": 266,
   "metadata": {},
   "outputs": [
    {
     "data": {
      "text/plain": [
       "intercept   -1.988777\n",
       "ab_page     -0.014989\n",
       "dtype: float64"
      ]
     },
     "execution_count": 266,
     "metadata": {},
     "output_type": "execute_result"
    }
   ],
   "source": [
    "results.params"
   ]
  },
  {
   "cell_type": "markdown",
   "metadata": {},
   "source": [
    "As intercept and ab_page coef is in negative, will use 1/exp(results.params):"
   ]
  },
  {
   "cell_type": "code",
   "execution_count": 267,
   "metadata": {},
   "outputs": [
    {
     "data": {
      "text/plain": [
       "intercept    7.306593\n",
       "ab_page      1.015102\n",
       "dtype: float64"
      ]
     },
     "execution_count": 267,
     "metadata": {},
     "output_type": "execute_result"
    }
   ],
   "source": [
    "1/np.exp(results.params)"
   ]
  },
  {
   "cell_type": "markdown",
   "metadata": {},
   "source": [
    "p_value associated with ab_page is 0.190, higher than 0.05."
   ]
  },
  {
   "cell_type": "markdown",
   "metadata": {},
   "source": [
    "e. What is the p-value associated with **ab_page**? Why does it differ from the value you found in **Part II**?<br><br>  **Hint**: What are the null and alternative hypotheses associated with your regression model, and how do they compare to the null and alternative hypotheses in the **Part II**?"
   ]
  },
  {
   "cell_type": "markdown",
   "metadata": {},
   "source": [
    "**Part II(A/B Test):**<br>\n",
    "- <u>**Null hypothesis:**</u>\n",
    "The conversion rate of the old_page is greater than or equal to the conversion rate of the new_page.<br>\n",
    ">**$H_{null}$** : **$p_{old}$**>= **$p_{new}$**<br>\n",
    "\n",
    "- <u>**Alternative hypothesis:**</u>\n",
    "The conversion rate of the old_page is less than the conversion rate of the new_page. \n",
    ">**$H_{alternative}$** : **$p_{old}$**<**$p_{new}$**<br>\n",
    "\n",
    ">Note: \n",
    ">- From Part II, $p_{new}$ under the null = 0.1195971, and  $p_{old}$ under the null = 0.1195971. So $p_{new}$ ==  $p_{old}$.<br>\n",
    ">- The alertanative hypothesis assumes a one-tailed test, and the conversion rate of the old_page to be less than conversion rate of the new_page. The calculated p_val above is 0.9079, greater than 0.05.<br>\n",
    ">- So we carried on with the Null Hypothesis.\n",
    "\n",
    "**Part III (Regression model):**<br>\n",
    "- <u>**Null hypothesis:**</u>\n",
    "The conversion rate of the old_page is equal to the conversion rate of the new_page.<br>\n",
    ">**$H_{null}$** : **$p_{old}$**= **$p_{new}$**<br>\n",
    "\n",
    "\n",
    "- <u>**Alternative hypothesis:**</u>\n",
    "The conversion rate of the old_page is not equal to the conversion rate of the new_page. \n",
    ">**$H_{alternative}$** : **$p_{old}$**$\\neq$**$p_{new}$**<br>\n",
    "\n",
    ">Note: \n",
    ">- The alertanative hypothesis assumes multi-tailed test. The calculated p-value associated with ab_page is 0.190, greater than 0.05. The conversion rate of the old_page is different to the conversion rate of the new_page.<br>\n",
    "\n",
    "\n",
    "\n",
    "**In both part II and part III, the results do not support the alternative hypothesis sufficiently.**\n"
   ]
  },
  {
   "cell_type": "markdown",
   "metadata": {},
   "source": [
    "f. Now, you are considering other things that might influence whether or not an individual converts.  Discuss why it is a good idea to consider other factors to add into your regression model.  Are there any disadvantages to adding additional terms into your regression model?"
   ]
  },
  {
   "cell_type": "markdown",
   "metadata": {},
   "source": [
    "<u>Answer:</u>\n",
    ">- Other factors can be added to the regression model e.g Gender, Age groups, level of education, countries, income...etc.\n",
    ">- Adding other factors to regression model will help in identifying other potencial influences on the conversion rate.\n",
    "However additional variables may lead to multicollinearity (The predictors will be correlated with one another and we want the predictors to be correlated with the response. )"
   ]
  },
  {
   "cell_type": "markdown",
   "metadata": {},
   "source": [
    "g. Now along with testing if the conversion rate changes for different pages, also add an effect based on which country a user lives. You will need to read in the **countries.csv** dataset and merge together your datasets on the approporiate rows.  [Here](https://pandas.pydata.org/pandas-docs/stable/generated/pandas.DataFrame.join.html) are the docs for joining tables. \n",
    "\n",
    "Does it appear that country had an impact on conversion?  Don't forget to create dummy variables for these country columns - **Hint: You will need two columns for the three dummy variables.** Provide the statistical output as well as a written response to answer this question."
   ]
  },
  {
   "cell_type": "code",
   "execution_count": 268,
   "metadata": {},
   "outputs": [],
   "source": [
    "country = pd.read_csv(file_path+'countries.csv')\n",
    "df_new = country.set_index('user_id').join(df2.set_index('user_id'), how='inner')"
   ]
  },
  {
   "cell_type": "code",
   "execution_count": 269,
   "metadata": {},
   "outputs": [
    {
     "data": {
      "text/html": [
       "<div>\n",
       "<style scoped>\n",
       "    .dataframe tbody tr th:only-of-type {\n",
       "        vertical-align: middle;\n",
       "    }\n",
       "\n",
       "    .dataframe tbody tr th {\n",
       "        vertical-align: top;\n",
       "    }\n",
       "\n",
       "    .dataframe thead th {\n",
       "        text-align: right;\n",
       "    }\n",
       "</style>\n",
       "<table border=\"1\" class=\"dataframe\">\n",
       "  <thead>\n",
       "    <tr style=\"text-align: right;\">\n",
       "      <th></th>\n",
       "      <th>country</th>\n",
       "      <th>timestamp</th>\n",
       "      <th>group</th>\n",
       "      <th>landing_page</th>\n",
       "      <th>converted</th>\n",
       "      <th>intercept</th>\n",
       "      <th>ab_page</th>\n",
       "    </tr>\n",
       "    <tr>\n",
       "      <th>user_id</th>\n",
       "      <th></th>\n",
       "      <th></th>\n",
       "      <th></th>\n",
       "      <th></th>\n",
       "      <th></th>\n",
       "      <th></th>\n",
       "      <th></th>\n",
       "    </tr>\n",
       "  </thead>\n",
       "  <tbody>\n",
       "    <tr>\n",
       "      <th>834778</th>\n",
       "      <td>UK</td>\n",
       "      <td>2017-01-14 23:08:43.304998</td>\n",
       "      <td>control</td>\n",
       "      <td>old_page</td>\n",
       "      <td>0</td>\n",
       "      <td>1</td>\n",
       "      <td>0</td>\n",
       "    </tr>\n",
       "    <tr>\n",
       "      <th>928468</th>\n",
       "      <td>US</td>\n",
       "      <td>2017-01-23 14:44:16.387854</td>\n",
       "      <td>treatment</td>\n",
       "      <td>new_page</td>\n",
       "      <td>0</td>\n",
       "      <td>1</td>\n",
       "      <td>1</td>\n",
       "    </tr>\n",
       "    <tr>\n",
       "      <th>822059</th>\n",
       "      <td>UK</td>\n",
       "      <td>2017-01-16 14:04:14.719771</td>\n",
       "      <td>treatment</td>\n",
       "      <td>new_page</td>\n",
       "      <td>1</td>\n",
       "      <td>1</td>\n",
       "      <td>1</td>\n",
       "    </tr>\n",
       "    <tr>\n",
       "      <th>711597</th>\n",
       "      <td>UK</td>\n",
       "      <td>2017-01-22 03:14:24.763511</td>\n",
       "      <td>control</td>\n",
       "      <td>old_page</td>\n",
       "      <td>0</td>\n",
       "      <td>1</td>\n",
       "      <td>0</td>\n",
       "    </tr>\n",
       "    <tr>\n",
       "      <th>710616</th>\n",
       "      <td>UK</td>\n",
       "      <td>2017-01-16 13:14:44.000513</td>\n",
       "      <td>treatment</td>\n",
       "      <td>new_page</td>\n",
       "      <td>0</td>\n",
       "      <td>1</td>\n",
       "      <td>1</td>\n",
       "    </tr>\n",
       "  </tbody>\n",
       "</table>\n",
       "</div>"
      ],
      "text/plain": [
       "        country                   timestamp      group landing_page  \\\n",
       "user_id                                                               \n",
       "834778       UK  2017-01-14 23:08:43.304998    control     old_page   \n",
       "928468       US  2017-01-23 14:44:16.387854  treatment     new_page   \n",
       "822059       UK  2017-01-16 14:04:14.719771  treatment     new_page   \n",
       "711597       UK  2017-01-22 03:14:24.763511    control     old_page   \n",
       "710616       UK  2017-01-16 13:14:44.000513  treatment     new_page   \n",
       "\n",
       "         converted  intercept  ab_page  \n",
       "user_id                                 \n",
       "834778           0          1        0  \n",
       "928468           0          1        1  \n",
       "822059           1          1        1  \n",
       "711597           0          1        0  \n",
       "710616           0          1        1  "
      ]
     },
     "execution_count": 269,
     "metadata": {},
     "output_type": "execute_result"
    }
   ],
   "source": [
    "df_new.head()"
   ]
  },
  {
   "cell_type": "code",
   "execution_count": 270,
   "metadata": {},
   "outputs": [
    {
     "data": {
      "text/plain": [
       "array(['UK', 'US', 'CA'], dtype=object)"
      ]
     },
     "execution_count": 270,
     "metadata": {},
     "output_type": "execute_result"
    }
   ],
   "source": [
    "df_new['country'].unique()"
   ]
  },
  {
   "cell_type": "markdown",
   "metadata": {},
   "source": [
    "There are 3 unique countries: 'UK', 'US', 'CA'"
   ]
  },
  {
   "cell_type": "code",
   "execution_count": 272,
   "metadata": {},
   "outputs": [
    {
     "data": {
      "text/plain": [
       "US    203619\n",
       "UK     72466\n",
       "CA     14499\n",
       "Name: country, dtype: int64"
      ]
     },
     "execution_count": 272,
     "metadata": {},
     "output_type": "execute_result"
    }
   ],
   "source": [
    "df_new['country'].value_counts()"
   ]
  },
  {
   "cell_type": "markdown",
   "metadata": {},
   "source": [
    "Got the number of rows associated with each country. Will use this later on to choose countries. "
   ]
  },
  {
   "cell_type": "markdown",
   "metadata": {},
   "source": [
    "<u>Mean conversion rate: </u>"
   ]
  },
  {
   "cell_type": "code",
   "execution_count": 273,
   "metadata": {},
   "outputs": [
    {
     "data": {
      "text/plain": [
       "0.5000619442226688"
      ]
     },
     "execution_count": 273,
     "metadata": {},
     "output_type": "execute_result"
    }
   ],
   "source": [
    "df_new.ab_page.mean()"
   ]
  },
  {
   "cell_type": "markdown",
   "metadata": {},
   "source": [
    "Mean Conversion rate is **0.5000619442226688**"
   ]
  },
  {
   "cell_type": "markdown",
   "metadata": {},
   "source": [
    "<u>Mean conversion rate by country: </u>"
   ]
  },
  {
   "cell_type": "code",
   "execution_count": 274,
   "metadata": {},
   "outputs": [
    {
     "data": {
      "text/html": [
       "<div>\n",
       "<style scoped>\n",
       "    .dataframe tbody tr th:only-of-type {\n",
       "        vertical-align: middle;\n",
       "    }\n",
       "\n",
       "    .dataframe tbody tr th {\n",
       "        vertical-align: top;\n",
       "    }\n",
       "\n",
       "    .dataframe thead th {\n",
       "        text-align: right;\n",
       "    }\n",
       "</style>\n",
       "<table border=\"1\" class=\"dataframe\">\n",
       "  <thead>\n",
       "    <tr style=\"text-align: right;\">\n",
       "      <th></th>\n",
       "      <th>country</th>\n",
       "      <th>converted</th>\n",
       "      <th>intercept</th>\n",
       "      <th>ab_page</th>\n",
       "    </tr>\n",
       "  </thead>\n",
       "  <tbody>\n",
       "    <tr>\n",
       "      <th>0</th>\n",
       "      <td>CA</td>\n",
       "      <td>0.115318</td>\n",
       "      <td>1.0</td>\n",
       "      <td>0.503552</td>\n",
       "    </tr>\n",
       "    <tr>\n",
       "      <th>1</th>\n",
       "      <td>UK</td>\n",
       "      <td>0.120594</td>\n",
       "      <td>1.0</td>\n",
       "      <td>0.498247</td>\n",
       "    </tr>\n",
       "    <tr>\n",
       "      <th>2</th>\n",
       "      <td>US</td>\n",
       "      <td>0.119547</td>\n",
       "      <td>1.0</td>\n",
       "      <td>0.500459</td>\n",
       "    </tr>\n",
       "  </tbody>\n",
       "</table>\n",
       "</div>"
      ],
      "text/plain": [
       "  country  converted  intercept   ab_page\n",
       "0      CA   0.115318        1.0  0.503552\n",
       "1      UK   0.120594        1.0  0.498247\n",
       "2      US   0.119547        1.0  0.500459"
      ]
     },
     "execution_count": 274,
     "metadata": {},
     "output_type": "execute_result"
    }
   ],
   "source": [
    "df_new.groupby(['country'], as_index=False).mean()"
   ]
  },
  {
   "cell_type": "markdown",
   "metadata": {},
   "source": [
    "There's no significant difference in terms of countries. No difference between CA, UK and US. "
   ]
  },
  {
   "cell_type": "markdown",
   "metadata": {},
   "source": [
    "<u>Mean conversion rate by page: </u>"
   ]
  },
  {
   "cell_type": "code",
   "execution_count": 275,
   "metadata": {},
   "outputs": [
    {
     "data": {
      "text/html": [
       "<div>\n",
       "<style scoped>\n",
       "    .dataframe tbody tr th:only-of-type {\n",
       "        vertical-align: middle;\n",
       "    }\n",
       "\n",
       "    .dataframe tbody tr th {\n",
       "        vertical-align: top;\n",
       "    }\n",
       "\n",
       "    .dataframe thead th {\n",
       "        text-align: right;\n",
       "    }\n",
       "</style>\n",
       "<table border=\"1\" class=\"dataframe\">\n",
       "  <thead>\n",
       "    <tr style=\"text-align: right;\">\n",
       "      <th></th>\n",
       "      <th>ab_page</th>\n",
       "      <th>converted</th>\n",
       "      <th>intercept</th>\n",
       "    </tr>\n",
       "  </thead>\n",
       "  <tbody>\n",
       "    <tr>\n",
       "      <th>0</th>\n",
       "      <td>0</td>\n",
       "      <td>0.120386</td>\n",
       "      <td>1.0</td>\n",
       "    </tr>\n",
       "    <tr>\n",
       "      <th>1</th>\n",
       "      <td>1</td>\n",
       "      <td>0.118808</td>\n",
       "      <td>1.0</td>\n",
       "    </tr>\n",
       "  </tbody>\n",
       "</table>\n",
       "</div>"
      ],
      "text/plain": [
       "   ab_page  converted  intercept\n",
       "0        0   0.120386        1.0\n",
       "1        1   0.118808        1.0"
      ]
     },
     "execution_count": 275,
     "metadata": {},
     "output_type": "execute_result"
    }
   ],
   "source": [
    "df_new.groupby(['ab_page'], as_index=False).mean()"
   ]
  },
  {
   "cell_type": "markdown",
   "metadata": {},
   "source": [
    "There's no significant difference in terms of ab_page conversion. Conversion rates is close. "
   ]
  },
  {
   "cell_type": "markdown",
   "metadata": {},
   "source": [
    "<u>**Create the necessary dummy variables:**</u>\n"
   ]
  },
  {
   "cell_type": "code",
   "execution_count": 276,
   "metadata": {},
   "outputs": [],
   "source": [
    "df_new[['CA','UK', 'US']]= pd.get_dummies(df_new['country'])\n"
   ]
  },
  {
   "cell_type": "code",
   "execution_count": 277,
   "metadata": {},
   "outputs": [
    {
     "data": {
      "text/html": [
       "<div>\n",
       "<style scoped>\n",
       "    .dataframe tbody tr th:only-of-type {\n",
       "        vertical-align: middle;\n",
       "    }\n",
       "\n",
       "    .dataframe tbody tr th {\n",
       "        vertical-align: top;\n",
       "    }\n",
       "\n",
       "    .dataframe thead th {\n",
       "        text-align: right;\n",
       "    }\n",
       "</style>\n",
       "<table border=\"1\" class=\"dataframe\">\n",
       "  <thead>\n",
       "    <tr style=\"text-align: right;\">\n",
       "      <th></th>\n",
       "      <th>country</th>\n",
       "      <th>timestamp</th>\n",
       "      <th>group</th>\n",
       "      <th>landing_page</th>\n",
       "      <th>converted</th>\n",
       "      <th>intercept</th>\n",
       "      <th>ab_page</th>\n",
       "      <th>CA</th>\n",
       "      <th>UK</th>\n",
       "      <th>US</th>\n",
       "    </tr>\n",
       "    <tr>\n",
       "      <th>user_id</th>\n",
       "      <th></th>\n",
       "      <th></th>\n",
       "      <th></th>\n",
       "      <th></th>\n",
       "      <th></th>\n",
       "      <th></th>\n",
       "      <th></th>\n",
       "      <th></th>\n",
       "      <th></th>\n",
       "      <th></th>\n",
       "    </tr>\n",
       "  </thead>\n",
       "  <tbody>\n",
       "    <tr>\n",
       "      <th>834778</th>\n",
       "      <td>UK</td>\n",
       "      <td>2017-01-14 23:08:43.304998</td>\n",
       "      <td>control</td>\n",
       "      <td>old_page</td>\n",
       "      <td>0</td>\n",
       "      <td>1</td>\n",
       "      <td>0</td>\n",
       "      <td>0</td>\n",
       "      <td>1</td>\n",
       "      <td>0</td>\n",
       "    </tr>\n",
       "    <tr>\n",
       "      <th>928468</th>\n",
       "      <td>US</td>\n",
       "      <td>2017-01-23 14:44:16.387854</td>\n",
       "      <td>treatment</td>\n",
       "      <td>new_page</td>\n",
       "      <td>0</td>\n",
       "      <td>1</td>\n",
       "      <td>1</td>\n",
       "      <td>0</td>\n",
       "      <td>0</td>\n",
       "      <td>1</td>\n",
       "    </tr>\n",
       "    <tr>\n",
       "      <th>822059</th>\n",
       "      <td>UK</td>\n",
       "      <td>2017-01-16 14:04:14.719771</td>\n",
       "      <td>treatment</td>\n",
       "      <td>new_page</td>\n",
       "      <td>1</td>\n",
       "      <td>1</td>\n",
       "      <td>1</td>\n",
       "      <td>0</td>\n",
       "      <td>1</td>\n",
       "      <td>0</td>\n",
       "    </tr>\n",
       "    <tr>\n",
       "      <th>711597</th>\n",
       "      <td>UK</td>\n",
       "      <td>2017-01-22 03:14:24.763511</td>\n",
       "      <td>control</td>\n",
       "      <td>old_page</td>\n",
       "      <td>0</td>\n",
       "      <td>1</td>\n",
       "      <td>0</td>\n",
       "      <td>0</td>\n",
       "      <td>1</td>\n",
       "      <td>0</td>\n",
       "    </tr>\n",
       "    <tr>\n",
       "      <th>710616</th>\n",
       "      <td>UK</td>\n",
       "      <td>2017-01-16 13:14:44.000513</td>\n",
       "      <td>treatment</td>\n",
       "      <td>new_page</td>\n",
       "      <td>0</td>\n",
       "      <td>1</td>\n",
       "      <td>1</td>\n",
       "      <td>0</td>\n",
       "      <td>1</td>\n",
       "      <td>0</td>\n",
       "    </tr>\n",
       "  </tbody>\n",
       "</table>\n",
       "</div>"
      ],
      "text/plain": [
       "        country                   timestamp      group landing_page  \\\n",
       "user_id                                                               \n",
       "834778       UK  2017-01-14 23:08:43.304998    control     old_page   \n",
       "928468       US  2017-01-23 14:44:16.387854  treatment     new_page   \n",
       "822059       UK  2017-01-16 14:04:14.719771  treatment     new_page   \n",
       "711597       UK  2017-01-22 03:14:24.763511    control     old_page   \n",
       "710616       UK  2017-01-16 13:14:44.000513  treatment     new_page   \n",
       "\n",
       "         converted  intercept  ab_page  CA  UK  US  \n",
       "user_id                                             \n",
       "834778           0          1        0   0   1   0  \n",
       "928468           0          1        1   0   0   1  \n",
       "822059           1          1        1   0   1   0  \n",
       "711597           0          1        0   0   1   0  \n",
       "710616           0          1        1   0   1   0  "
      ]
     },
     "execution_count": 277,
     "metadata": {},
     "output_type": "execute_result"
    }
   ],
   "source": [
    "df_new.head()"
   ]
  },
  {
   "cell_type": "code",
   "execution_count": 278,
   "metadata": {},
   "outputs": [
    {
     "name": "stdout",
     "output_type": "stream",
     "text": [
      "Optimization terminated successfully.\n",
      "         Current function value: 0.366113\n",
      "         Iterations 6\n"
     ]
    }
   ],
   "source": [
    "df_new['intercept'] = 1\n",
    "log = sm.Logit(df_new['converted'],df_new[['intercept','ab_page','CA','US']])\n",
    "results = log.fit()\n"
   ]
  },
  {
   "cell_type": "code",
   "execution_count": 279,
   "metadata": {},
   "outputs": [
    {
     "data": {
      "text/html": [
       "<table class=\"simpletable\">\n",
       "<caption>Logit Regression Results</caption>\n",
       "<tr>\n",
       "  <th>Dep. Variable:</th>       <td>converted</td>    <th>  No. Observations:  </th>   <td>290584</td>   \n",
       "</tr>\n",
       "<tr>\n",
       "  <th>Model:</th>                 <td>Logit</td>      <th>  Df Residuals:      </th>   <td>290580</td>   \n",
       "</tr>\n",
       "<tr>\n",
       "  <th>Method:</th>                 <td>MLE</td>       <th>  Df Model:          </th>   <td>     3</td>   \n",
       "</tr>\n",
       "<tr>\n",
       "  <th>Date:</th>            <td>Mon, 12 Jul 2021</td> <th>  Pseudo R-squ.:     </th>  <td>2.323e-05</td> \n",
       "</tr>\n",
       "<tr>\n",
       "  <th>Time:</th>                <td>00:19:06</td>     <th>  Log-Likelihood:    </th> <td>-1.0639e+05</td>\n",
       "</tr>\n",
       "<tr>\n",
       "  <th>converged:</th>             <td>True</td>       <th>  LL-Null:           </th> <td>-1.0639e+05</td>\n",
       "</tr>\n",
       "<tr>\n",
       "  <th>Covariance Type:</th>     <td>nonrobust</td>    <th>  LLR p-value:       </th>   <td>0.1760</td>   \n",
       "</tr>\n",
       "</table>\n",
       "<table class=\"simpletable\">\n",
       "<tr>\n",
       "      <td></td>         <th>coef</th>     <th>std err</th>      <th>z</th>      <th>P>|z|</th>  <th>[0.025</th>    <th>0.975]</th>  \n",
       "</tr>\n",
       "<tr>\n",
       "  <th>intercept</th> <td>   -1.9794</td> <td>    0.013</td> <td> -155.415</td> <td> 0.000</td> <td>   -2.004</td> <td>   -1.954</td>\n",
       "</tr>\n",
       "<tr>\n",
       "  <th>ab_page</th>   <td>   -0.0149</td> <td>    0.011</td> <td>   -1.307</td> <td> 0.191</td> <td>   -0.037</td> <td>    0.007</td>\n",
       "</tr>\n",
       "<tr>\n",
       "  <th>CA</th>        <td>   -0.0506</td> <td>    0.028</td> <td>   -1.784</td> <td> 0.074</td> <td>   -0.106</td> <td>    0.005</td>\n",
       "</tr>\n",
       "<tr>\n",
       "  <th>US</th>        <td>   -0.0099</td> <td>    0.013</td> <td>   -0.743</td> <td> 0.457</td> <td>   -0.036</td> <td>    0.016</td>\n",
       "</tr>\n",
       "</table>"
      ],
      "text/plain": [
       "<class 'statsmodels.iolib.summary.Summary'>\n",
       "\"\"\"\n",
       "                           Logit Regression Results                           \n",
       "==============================================================================\n",
       "Dep. Variable:              converted   No. Observations:               290584\n",
       "Model:                          Logit   Df Residuals:                   290580\n",
       "Method:                           MLE   Df Model:                            3\n",
       "Date:                Mon, 12 Jul 2021   Pseudo R-squ.:               2.323e-05\n",
       "Time:                        00:19:06   Log-Likelihood:            -1.0639e+05\n",
       "converged:                       True   LL-Null:                   -1.0639e+05\n",
       "Covariance Type:            nonrobust   LLR p-value:                    0.1760\n",
       "==============================================================================\n",
       "                 coef    std err          z      P>|z|      [0.025      0.975]\n",
       "------------------------------------------------------------------------------\n",
       "intercept     -1.9794      0.013   -155.415      0.000      -2.004      -1.954\n",
       "ab_page       -0.0149      0.011     -1.307      0.191      -0.037       0.007\n",
       "CA            -0.0506      0.028     -1.784      0.074      -0.106       0.005\n",
       "US            -0.0099      0.013     -0.743      0.457      -0.036       0.016\n",
       "==============================================================================\n",
       "\"\"\""
      ]
     },
     "execution_count": 279,
     "metadata": {},
     "output_type": "execute_result"
    }
   ],
   "source": [
    "results.summary()"
   ]
  },
  {
   "cell_type": "markdown",
   "metadata": {},
   "source": [
    "As coef values are negative, we will use 1/exp(coef)"
   ]
  },
  {
   "cell_type": "code",
   "execution_count": 280,
   "metadata": {},
   "outputs": [
    {
     "data": {
      "text/plain": [
       "intercept    7.238314\n",
       "ab_page      1.015056\n",
       "CA           1.051944\n",
       "US           1.009932\n",
       "dtype: float64"
      ]
     },
     "execution_count": 280,
     "metadata": {},
     "output_type": "execute_result"
    }
   ],
   "source": [
    "1/np.exp(results.params)"
   ]
  },
  {
   "cell_type": "markdown",
   "metadata": {},
   "source": [
    "**<u>P-Values of US and CA</u> (the two dummy country variables) are larger than 0.05. the predictor variable country has no effect on the conversion rate.** If all other variables are constant: \n",
    "- Users in US is 1.009 less likely to convert in comparisin to users in UK.\n",
    "- Users in CA is 1.051 less likely to convert in comparisin to users in UK.<br>\n",
    "\n",
    "Countries have no influence on the conversion rate, so I will retain with **null hypothesis**. "
   ]
  },
  {
   "cell_type": "markdown",
   "metadata": {},
   "source": [
    "h. Though you have now looked at the individual factors of country and page on conversion, we would now like to look at an interaction between page and country to see if there significant effects on conversion.  Create the necessary additional columns, and fit the new model.  \n",
    "\n",
    "Provide the summary results, and your conclusions based on the results."
   ]
  },
  {
   "cell_type": "markdown",
   "metadata": {},
   "source": [
    "Will check the effect of landing page in the US vs Canada: "
   ]
  },
  {
   "cell_type": "code",
   "execution_count": 281,
   "metadata": {
    "scrolled": true
   },
   "outputs": [
    {
     "data": {
      "text/html": [
       "<div>\n",
       "<style scoped>\n",
       "    .dataframe tbody tr th:only-of-type {\n",
       "        vertical-align: middle;\n",
       "    }\n",
       "\n",
       "    .dataframe tbody tr th {\n",
       "        vertical-align: top;\n",
       "    }\n",
       "\n",
       "    .dataframe thead th {\n",
       "        text-align: right;\n",
       "    }\n",
       "</style>\n",
       "<table border=\"1\" class=\"dataframe\">\n",
       "  <thead>\n",
       "    <tr style=\"text-align: right;\">\n",
       "      <th></th>\n",
       "      <th>country</th>\n",
       "      <th>timestamp</th>\n",
       "      <th>group</th>\n",
       "      <th>landing_page</th>\n",
       "      <th>converted</th>\n",
       "      <th>intercept</th>\n",
       "      <th>ab_page</th>\n",
       "      <th>CA</th>\n",
       "      <th>UK</th>\n",
       "      <th>US</th>\n",
       "    </tr>\n",
       "    <tr>\n",
       "      <th>user_id</th>\n",
       "      <th></th>\n",
       "      <th></th>\n",
       "      <th></th>\n",
       "      <th></th>\n",
       "      <th></th>\n",
       "      <th></th>\n",
       "      <th></th>\n",
       "      <th></th>\n",
       "      <th></th>\n",
       "      <th></th>\n",
       "    </tr>\n",
       "  </thead>\n",
       "  <tbody>\n",
       "    <tr>\n",
       "      <th>834778</th>\n",
       "      <td>UK</td>\n",
       "      <td>2017-01-14 23:08:43.304998</td>\n",
       "      <td>control</td>\n",
       "      <td>old_page</td>\n",
       "      <td>0</td>\n",
       "      <td>1</td>\n",
       "      <td>0</td>\n",
       "      <td>0</td>\n",
       "      <td>1</td>\n",
       "      <td>0</td>\n",
       "    </tr>\n",
       "    <tr>\n",
       "      <th>928468</th>\n",
       "      <td>US</td>\n",
       "      <td>2017-01-23 14:44:16.387854</td>\n",
       "      <td>treatment</td>\n",
       "      <td>new_page</td>\n",
       "      <td>0</td>\n",
       "      <td>1</td>\n",
       "      <td>1</td>\n",
       "      <td>0</td>\n",
       "      <td>0</td>\n",
       "      <td>1</td>\n",
       "    </tr>\n",
       "    <tr>\n",
       "      <th>822059</th>\n",
       "      <td>UK</td>\n",
       "      <td>2017-01-16 14:04:14.719771</td>\n",
       "      <td>treatment</td>\n",
       "      <td>new_page</td>\n",
       "      <td>1</td>\n",
       "      <td>1</td>\n",
       "      <td>1</td>\n",
       "      <td>0</td>\n",
       "      <td>1</td>\n",
       "      <td>0</td>\n",
       "    </tr>\n",
       "    <tr>\n",
       "      <th>711597</th>\n",
       "      <td>UK</td>\n",
       "      <td>2017-01-22 03:14:24.763511</td>\n",
       "      <td>control</td>\n",
       "      <td>old_page</td>\n",
       "      <td>0</td>\n",
       "      <td>1</td>\n",
       "      <td>0</td>\n",
       "      <td>0</td>\n",
       "      <td>1</td>\n",
       "      <td>0</td>\n",
       "    </tr>\n",
       "    <tr>\n",
       "      <th>710616</th>\n",
       "      <td>UK</td>\n",
       "      <td>2017-01-16 13:14:44.000513</td>\n",
       "      <td>treatment</td>\n",
       "      <td>new_page</td>\n",
       "      <td>0</td>\n",
       "      <td>1</td>\n",
       "      <td>1</td>\n",
       "      <td>0</td>\n",
       "      <td>1</td>\n",
       "      <td>0</td>\n",
       "    </tr>\n",
       "  </tbody>\n",
       "</table>\n",
       "</div>"
      ],
      "text/plain": [
       "        country                   timestamp      group landing_page  \\\n",
       "user_id                                                               \n",
       "834778       UK  2017-01-14 23:08:43.304998    control     old_page   \n",
       "928468       US  2017-01-23 14:44:16.387854  treatment     new_page   \n",
       "822059       UK  2017-01-16 14:04:14.719771  treatment     new_page   \n",
       "711597       UK  2017-01-22 03:14:24.763511    control     old_page   \n",
       "710616       UK  2017-01-16 13:14:44.000513  treatment     new_page   \n",
       "\n",
       "         converted  intercept  ab_page  CA  UK  US  \n",
       "user_id                                             \n",
       "834778           0          1        0   0   1   0  \n",
       "928468           0          1        1   0   0   1  \n",
       "822059           1          1        1   0   1   0  \n",
       "711597           0          1        0   0   1   0  \n",
       "710616           0          1        1   0   1   0  "
      ]
     },
     "execution_count": 281,
     "metadata": {},
     "output_type": "execute_result"
    }
   ],
   "source": [
    "df_new.head()"
   ]
  },
  {
   "cell_type": "markdown",
   "metadata": {},
   "source": [
    "Will check the factors of interaction between page, and country and it's effect on conversion. <br>\n",
    "df_new['country'] x df_new['ab_page']]"
   ]
  },
  {
   "cell_type": "code",
   "execution_count": 282,
   "metadata": {},
   "outputs": [],
   "source": [
    "df_new['interaction_us_ab_page'] = df_new['US'] * df_new['ab_page']\n",
    "df_new['interaction_ca_ab_page'] = df_new['CA'] * df_new['ab_page']\n",
    "df_new['interaction_uk_ab_page'] = df_new['UK'] * df_new['ab_page']\n"
   ]
  },
  {
   "cell_type": "code",
   "execution_count": 283,
   "metadata": {},
   "outputs": [
    {
     "data": {
      "text/html": [
       "<div>\n",
       "<style scoped>\n",
       "    .dataframe tbody tr th:only-of-type {\n",
       "        vertical-align: middle;\n",
       "    }\n",
       "\n",
       "    .dataframe tbody tr th {\n",
       "        vertical-align: top;\n",
       "    }\n",
       "\n",
       "    .dataframe thead th {\n",
       "        text-align: right;\n",
       "    }\n",
       "</style>\n",
       "<table border=\"1\" class=\"dataframe\">\n",
       "  <thead>\n",
       "    <tr style=\"text-align: right;\">\n",
       "      <th></th>\n",
       "      <th>country</th>\n",
       "      <th>timestamp</th>\n",
       "      <th>group</th>\n",
       "      <th>landing_page</th>\n",
       "      <th>converted</th>\n",
       "      <th>intercept</th>\n",
       "      <th>ab_page</th>\n",
       "      <th>CA</th>\n",
       "      <th>UK</th>\n",
       "      <th>US</th>\n",
       "      <th>interaction_us_ab_page</th>\n",
       "      <th>interaction_ca_ab_page</th>\n",
       "      <th>interaction_uk_ab_page</th>\n",
       "    </tr>\n",
       "    <tr>\n",
       "      <th>user_id</th>\n",
       "      <th></th>\n",
       "      <th></th>\n",
       "      <th></th>\n",
       "      <th></th>\n",
       "      <th></th>\n",
       "      <th></th>\n",
       "      <th></th>\n",
       "      <th></th>\n",
       "      <th></th>\n",
       "      <th></th>\n",
       "      <th></th>\n",
       "      <th></th>\n",
       "      <th></th>\n",
       "    </tr>\n",
       "  </thead>\n",
       "  <tbody>\n",
       "    <tr>\n",
       "      <th>834778</th>\n",
       "      <td>UK</td>\n",
       "      <td>2017-01-14 23:08:43.304998</td>\n",
       "      <td>control</td>\n",
       "      <td>old_page</td>\n",
       "      <td>0</td>\n",
       "      <td>1</td>\n",
       "      <td>0</td>\n",
       "      <td>0</td>\n",
       "      <td>1</td>\n",
       "      <td>0</td>\n",
       "      <td>0</td>\n",
       "      <td>0</td>\n",
       "      <td>0</td>\n",
       "    </tr>\n",
       "    <tr>\n",
       "      <th>928468</th>\n",
       "      <td>US</td>\n",
       "      <td>2017-01-23 14:44:16.387854</td>\n",
       "      <td>treatment</td>\n",
       "      <td>new_page</td>\n",
       "      <td>0</td>\n",
       "      <td>1</td>\n",
       "      <td>1</td>\n",
       "      <td>0</td>\n",
       "      <td>0</td>\n",
       "      <td>1</td>\n",
       "      <td>1</td>\n",
       "      <td>0</td>\n",
       "      <td>0</td>\n",
       "    </tr>\n",
       "    <tr>\n",
       "      <th>822059</th>\n",
       "      <td>UK</td>\n",
       "      <td>2017-01-16 14:04:14.719771</td>\n",
       "      <td>treatment</td>\n",
       "      <td>new_page</td>\n",
       "      <td>1</td>\n",
       "      <td>1</td>\n",
       "      <td>1</td>\n",
       "      <td>0</td>\n",
       "      <td>1</td>\n",
       "      <td>0</td>\n",
       "      <td>0</td>\n",
       "      <td>0</td>\n",
       "      <td>1</td>\n",
       "    </tr>\n",
       "    <tr>\n",
       "      <th>711597</th>\n",
       "      <td>UK</td>\n",
       "      <td>2017-01-22 03:14:24.763511</td>\n",
       "      <td>control</td>\n",
       "      <td>old_page</td>\n",
       "      <td>0</td>\n",
       "      <td>1</td>\n",
       "      <td>0</td>\n",
       "      <td>0</td>\n",
       "      <td>1</td>\n",
       "      <td>0</td>\n",
       "      <td>0</td>\n",
       "      <td>0</td>\n",
       "      <td>0</td>\n",
       "    </tr>\n",
       "    <tr>\n",
       "      <th>710616</th>\n",
       "      <td>UK</td>\n",
       "      <td>2017-01-16 13:14:44.000513</td>\n",
       "      <td>treatment</td>\n",
       "      <td>new_page</td>\n",
       "      <td>0</td>\n",
       "      <td>1</td>\n",
       "      <td>1</td>\n",
       "      <td>0</td>\n",
       "      <td>1</td>\n",
       "      <td>0</td>\n",
       "      <td>0</td>\n",
       "      <td>0</td>\n",
       "      <td>1</td>\n",
       "    </tr>\n",
       "  </tbody>\n",
       "</table>\n",
       "</div>"
      ],
      "text/plain": [
       "        country                   timestamp      group landing_page  \\\n",
       "user_id                                                               \n",
       "834778       UK  2017-01-14 23:08:43.304998    control     old_page   \n",
       "928468       US  2017-01-23 14:44:16.387854  treatment     new_page   \n",
       "822059       UK  2017-01-16 14:04:14.719771  treatment     new_page   \n",
       "711597       UK  2017-01-22 03:14:24.763511    control     old_page   \n",
       "710616       UK  2017-01-16 13:14:44.000513  treatment     new_page   \n",
       "\n",
       "         converted  intercept  ab_page  CA  UK  US  interaction_us_ab_page  \\\n",
       "user_id                                                                      \n",
       "834778           0          1        0   0   1   0                       0   \n",
       "928468           0          1        1   0   0   1                       1   \n",
       "822059           1          1        1   0   1   0                       0   \n",
       "711597           0          1        0   0   1   0                       0   \n",
       "710616           0          1        1   0   1   0                       0   \n",
       "\n",
       "         interaction_ca_ab_page  interaction_uk_ab_page  \n",
       "user_id                                                  \n",
       "834778                        0                       0  \n",
       "928468                        0                       0  \n",
       "822059                        0                       1  \n",
       "711597                        0                       0  \n",
       "710616                        0                       1  "
      ]
     },
     "execution_count": 283,
     "metadata": {},
     "output_type": "execute_result"
    }
   ],
   "source": [
    "df_new.head()"
   ]
  },
  {
   "cell_type": "code",
   "execution_count": 284,
   "metadata": {},
   "outputs": [
    {
     "name": "stdout",
     "output_type": "stream",
     "text": [
      "Optimization terminated successfully.\n",
      "         Current function value: 0.366109\n",
      "         Iterations 6\n"
     ]
    }
   ],
   "source": [
    "log = sm.Logit(df_new['converted'],df_new[['intercept','ab_page','US','interaction_us_ab_page','CA','interaction_ca_ab_page']])\n",
    "results = log.fit()\n"
   ]
  },
  {
   "cell_type": "code",
   "execution_count": 285,
   "metadata": {},
   "outputs": [
    {
     "data": {
      "text/html": [
       "<table class=\"simpletable\">\n",
       "<caption>Logit Regression Results</caption>\n",
       "<tr>\n",
       "  <th>Dep. Variable:</th>       <td>converted</td>    <th>  No. Observations:  </th>   <td>290584</td>   \n",
       "</tr>\n",
       "<tr>\n",
       "  <th>Model:</th>                 <td>Logit</td>      <th>  Df Residuals:      </th>   <td>290578</td>   \n",
       "</tr>\n",
       "<tr>\n",
       "  <th>Method:</th>                 <td>MLE</td>       <th>  Df Model:          </th>   <td>     5</td>   \n",
       "</tr>\n",
       "<tr>\n",
       "  <th>Date:</th>            <td>Mon, 12 Jul 2021</td> <th>  Pseudo R-squ.:     </th>  <td>3.482e-05</td> \n",
       "</tr>\n",
       "<tr>\n",
       "  <th>Time:</th>                <td>00:31:05</td>     <th>  Log-Likelihood:    </th> <td>-1.0639e+05</td>\n",
       "</tr>\n",
       "<tr>\n",
       "  <th>converged:</th>             <td>True</td>       <th>  LL-Null:           </th> <td>-1.0639e+05</td>\n",
       "</tr>\n",
       "<tr>\n",
       "  <th>Covariance Type:</th>     <td>nonrobust</td>    <th>  LLR p-value:       </th>   <td>0.1920</td>   \n",
       "</tr>\n",
       "</table>\n",
       "<table class=\"simpletable\">\n",
       "<tr>\n",
       "             <td></td>               <th>coef</th>     <th>std err</th>      <th>z</th>      <th>P>|z|</th>  <th>[0.025</th>    <th>0.975]</th>  \n",
       "</tr>\n",
       "<tr>\n",
       "  <th>intercept</th>              <td>   -1.9922</td> <td>    0.016</td> <td> -123.457</td> <td> 0.000</td> <td>   -2.024</td> <td>   -1.961</td>\n",
       "</tr>\n",
       "<tr>\n",
       "  <th>ab_page</th>                <td>    0.0108</td> <td>    0.023</td> <td>    0.475</td> <td> 0.635</td> <td>   -0.034</td> <td>    0.056</td>\n",
       "</tr>\n",
       "<tr>\n",
       "  <th>US</th>                     <td>    0.0057</td> <td>    0.019</td> <td>    0.306</td> <td> 0.760</td> <td>   -0.031</td> <td>    0.043</td>\n",
       "</tr>\n",
       "<tr>\n",
       "  <th>interaction_us_ab_page</th> <td>   -0.0314</td> <td>    0.027</td> <td>   -1.181</td> <td> 0.238</td> <td>   -0.084</td> <td>    0.021</td>\n",
       "</tr>\n",
       "<tr>\n",
       "  <th>CA</th>                     <td>   -0.0118</td> <td>    0.040</td> <td>   -0.296</td> <td> 0.767</td> <td>   -0.090</td> <td>    0.066</td>\n",
       "</tr>\n",
       "<tr>\n",
       "  <th>interaction_ca_ab_page</th> <td>   -0.0783</td> <td>    0.057</td> <td>   -1.378</td> <td> 0.168</td> <td>   -0.190</td> <td>    0.033</td>\n",
       "</tr>\n",
       "</table>"
      ],
      "text/plain": [
       "<class 'statsmodels.iolib.summary.Summary'>\n",
       "\"\"\"\n",
       "                           Logit Regression Results                           \n",
       "==============================================================================\n",
       "Dep. Variable:              converted   No. Observations:               290584\n",
       "Model:                          Logit   Df Residuals:                   290578\n",
       "Method:                           MLE   Df Model:                            5\n",
       "Date:                Mon, 12 Jul 2021   Pseudo R-squ.:               3.482e-05\n",
       "Time:                        00:31:05   Log-Likelihood:            -1.0639e+05\n",
       "converged:                       True   LL-Null:                   -1.0639e+05\n",
       "Covariance Type:            nonrobust   LLR p-value:                    0.1920\n",
       "==========================================================================================\n",
       "                             coef    std err          z      P>|z|      [0.025      0.975]\n",
       "------------------------------------------------------------------------------------------\n",
       "intercept                 -1.9922      0.016   -123.457      0.000      -2.024      -1.961\n",
       "ab_page                    0.0108      0.023      0.475      0.635      -0.034       0.056\n",
       "US                         0.0057      0.019      0.306      0.760      -0.031       0.043\n",
       "interaction_us_ab_page    -0.0314      0.027     -1.181      0.238      -0.084       0.021\n",
       "CA                        -0.0118      0.040     -0.296      0.767      -0.090       0.066\n",
       "interaction_ca_ab_page    -0.0783      0.057     -1.378      0.168      -0.190       0.033\n",
       "==========================================================================================\n",
       "\"\"\""
      ]
     },
     "execution_count": 285,
     "metadata": {},
     "output_type": "execute_result"
    }
   ],
   "source": [
    "results.summary()"
   ]
  },
  {
   "cell_type": "code",
   "execution_count": 286,
   "metadata": {},
   "outputs": [
    {
     "data": {
      "text/plain": [
       "intercept                 7.331806\n",
       "ab_page                   0.989224\n",
       "US                        0.994272\n",
       "interaction_us_ab_page    1.031896\n",
       "CA                        1.011854\n",
       "interaction_ca_ab_page    1.081428\n",
       "dtype: float64"
      ]
     },
     "execution_count": 286,
     "metadata": {},
     "output_type": "execute_result"
    }
   ],
   "source": [
    "1/np.exp(results.params)"
   ]
  },
  {
   "cell_type": "markdown",
   "metadata": {},
   "source": [
    "**<u>P-Values of page interaction per US and CA (interaction_us_ab_page & interaction_ca_ab_page)</u> are more than 5%.** If all other variables are constant: \n",
    "- interaction_us_ab_page  in US is 1.031896 less likely to convert.\n",
    "- interaction_ca_ab_page  in CA is 1.011854 less likely to convert.<br>\n"
   ]
  },
  {
   "cell_type": "markdown",
   "metadata": {},
   "source": [
    "**Decided to do comparison between US and Canada, as it was impossible to include all 3 countries**<br>\n",
    ">- The p_value for both US and CA is higher than 0.05.<br>\n",
    ">- Accordingly, the effect of landing_page in the US is not significantly different to the effect of landing_page in Canada.<br>\n",
    ">The effect of landing_page in Canada is not significantly different to the effect of landing_page in the US."
   ]
  },
  {
   "cell_type": "code",
   "execution_count": 185,
   "metadata": {},
   "outputs": [],
   "source": [
    "#tried different ways and had to remove the columns added as dummy. \n",
    "#df_new.drop(['treatment_CA',\t'treatment_UK'\t,'treatment_US',\t'page_country','new_page_CA',\t'new_page_UK',\t'new_page_US'\t,'old_page_CA'\t,'old_page_UK'\t,'old_page_US','control_CA','control_UK','control_US'],axis=1,inplace=True)"
   ]
  },
  {
   "cell_type": "markdown",
   "metadata": {},
   "source": [
    "<a id='conclusions'></a>\n",
    "## Conclusions\n",
    "<u>**Summary:**</u><br>\n",
    "> 1- The purpose of this analysis is to determine whether the new_page will have signifact impact on the conversion rate in comparison to the old_page. The sample is big with 294478 rows in ab_page, and covers 3 countries (US, UK, and Canada).<br>\n",
    ">2- In part I:\n",
    ">- The null hypothesis assumes the old_page's conversion rate is greater than or equal to the new page conversion rate (**$H_{null}$** : **$p_{old}$**>= **$p_{new}$**).<br>\n",
    ">- The alternative hypothesis assumes the old page has smaller conversion rate in comparison to the new page conversion rate($H_{alternative}$ : $p_{old}$ < $p_{new}$).<br>\n",
    ">3- In part II:\n",
    ">-A/B test was done using Null hypothesis, and calculating the z-score. Both methods led to the same conclusion of using the null hypothesis, the new page does not have sigificant effect on the conversion rate.<br>\n",
    ">4- In part III:\n",
    ">-The regression approach was used fitting a logistic regression model. The p-value is different from the value we got in the A/B test as different null and alternative hypothesis. The the regression model proved the output of the A/B test, landing page has no significant influence on conversion rate.\n",
    "\n",
    "<u>**In conclusion:**</u><br>\n",
    ">1- There is no enough evidence to believe the new_page increases the conversion rate in comparison to the old_page.<br>\n",
    ">2- This finding is based the probability(Part I), A/B test (Part II), and regression(Part III).<br>\n",
    ">3- There is no evidence to suggest that different countries can affect the conversion rate. The sample had US, CA, and UK.<br>\n",
    ">4- It's recommended to invest in developing a new page that will lead to higher conversion rate.<br> \n",
    "\n",
    "\n"
   ]
  },
  {
   "cell_type": "markdown",
   "metadata": {},
   "source": [
    "<a id='resources'></a>\n",
    "# Resources: \n",
    "- [Confidence intervals](http://www.stat.yale.edu/Courses/1997-98/101/confint.htm#:~:text=The%20critical%20value%20for%20a,%2D0.95%2F2%20%3D%200.025.)\n",
    "- [Z-Score](https://www.statisticshowto.com/probability-and-statistics/z-score/)\n",
    "- [P_values](https://www.statisticshowto.com/probability-and-statistics/statistics-definitions/p-value/)\n",
    "- Udacity classes\n",
    "- Udacity online lecture/presentation\n"
   ]
  },
  {
   "cell_type": "markdown",
   "metadata": {
    "collapsed": true
   },
   "source": [
    "### Gather Submission Materials\n",
    "\n",
    "Once you are satisfied with the status of your Notebook, you should save it in a format that will make it easy for others to read. You can use the __File -> Download as -> HTML (.html)__ menu to save your notebook as an .html file. If you are working locally and get an error about \"No module name\", then open a terminal and try installing the missing module using `pip install <module_name>` (don't include the \"<\" or \">\" or any words following a period in the module name).\n",
    "\n",
    "You will submit both your original Notebook and an HTML or PDF copy of the Notebook for review. There is no need for you to include any data files with your submission. If you made reference to other websites, books, and other resources to help you in solving tasks in the project, make sure that you document them. It is recommended that you either add a \"Resources\" section in a Markdown cell at the end of the Notebook report, or you can include a `readme.txt` file documenting your sources.\n",
    "\n",
    "### Submit the Project\n",
    "\n",
    "When you're ready, click on the \"Submit Project\" button to go to the project submission page. You can submit your files as a .zip archive or you can link to a GitHub repository containing your project files. If you go with GitHub, note that your submission will be a snapshot of the linked repository at time of submission. It is recommended that you keep each project in a separate repository to avoid any potential confusion: if a reviewer gets multiple folders representing multiple projects, there might be confusion regarding what project is to be evaluated.\n",
    "\n",
    "It can take us up to a week to grade the project, but in most cases it is much faster. You will get an email once your submission has been reviewed. If you are having any problems submitting your project or wish to check on the status of your submission, please email us at dataanalyst-project@udacity.com. In the meantime, you should feel free to continue on with your learning journey by beginning the next module in the program."
   ]
  },
  {
   "cell_type": "code",
   "execution_count": null,
   "metadata": {},
   "outputs": [],
   "source": []
  }
 ],
 "metadata": {
  "kernelspec": {
   "display_name": "Python 3",
   "language": "python",
   "name": "python3"
  },
  "language_info": {
   "codemirror_mode": {
    "name": "ipython",
    "version": 3
   },
   "file_extension": ".py",
   "mimetype": "text/x-python",
   "name": "python",
   "nbconvert_exporter": "python",
   "pygments_lexer": "ipython3",
   "version": "3.8.5"
  }
 },
 "nbformat": 4,
 "nbformat_minor": 2
}
